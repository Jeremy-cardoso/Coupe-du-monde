{
 "cells": [
  {
   "cell_type": "code",
   "execution_count": 1,
   "metadata": {},
   "outputs": [],
   "source": [
    "import matplotlib.pyplot as plt\n",
    "import scrapping as sc\n",
    "from formatage import Resume, Intro, Qualif\n",
    "import formatage as ft\n",
    "from nettoyage import Fixe\n",
    "import nettoyage as nt\n",
    "from competition import Tournement\n",
    "import competition as cp\n",
    "import machine_learning as ml\n",
    "from sklearn.preprocessing import MinMaxScaler\n",
    "from sklearn.linear_model import LinearRegression, Lasso, Ridge, ElasticNet\n",
    "from sklearn.neighbors import KNeighborsRegressor\n",
    "from sklearn.svm import SVR\n",
    "from sklearn.ensemble import RandomForestRegressor"
   ]
  },
  {
   "cell_type": "markdown",
   "metadata": {},
   "source": [
    "# But et explication du projet"
   ]
  },
  {
   "cell_type": "markdown",
   "metadata": {},
   "source": [
    "Le but du projet est d'anticiper les futurs affluence de supporters pour la prochaine coupe du monde, idéalement on voudrait savoir quel match aura le plus de supporters : intéressant en vue d'une variation du prix du billet, évidement il faudra au préalable s'arranger pour prédire les futurs matchs qui auront lieu et les gagnants qui en découleront.\n",
    "\n",
    "Le fonctionnement du code est de la sorte par ordre de priorité : \n",
    "- scrapping.py : Qui contient le scrapping des données de coupe du monde ainsi que les qualifications par continent stockés sous forme de backup html.\n",
    "\n",
    "- formatage.py :  Qui prend chaque backup coupe du monde ou qualification et le transforme en dataframe exploitable.\n",
    "\n",
    "- nettoyage.py :  Qui fixe de nouvelles colonnes, enlève les abbérations, rajoute des manquements ...\n",
    "\n",
    "- competition.py : Qui simule les équipes jouant l'une contre l'autre afin de prédire depuis les huitièmes de finale l'arbre de compétition qui en découlera (théoriquement).\n",
    "\n",
    "- machine_learning.py : Qui effectue donc les méthodes de machine learning sur les supporters présent lors d'anciennes coupe du monde afin de trouver le modèle le plus performant, puis de prédire avec ce modèle les futurs supporters issues de l'arbre de compétition prédit par competition.py.\n",
    "\n",
    "Ainsi l'ordre de priorité des .py est le suivant : scrapping > formatage > nettoyage > competition > machine_learning."
   ]
  },
  {
   "cell_type": "markdown",
   "metadata": {},
   "source": [
    "\n",
    "## Scrapping et backup code html de chaque cdm"
   ]
  },
  {
   "cell_type": "code",
   "execution_count": null,
   "metadata": {},
   "outputs": [],
   "source": [
    "lien = \"http://www.footballstats.fr/\""
   ]
  },
  {
   "cell_type": "code",
   "execution_count": null,
   "metadata": {},
   "outputs": [],
   "source": [
    "creation_backup_cdm(lien)"
   ]
  },
  {
   "cell_type": "markdown",
   "metadata": {},
   "source": [
    "## Scrapping et backup code html de chaque qualifications de continent"
   ]
  },
  {
   "cell_type": "code",
   "execution_count": 72,
   "metadata": {},
   "outputs": [],
   "source": [
    "lien = \"http://www.lequipe.fr/\""
   ]
  },
  {
   "cell_type": "code",
   "execution_count": null,
   "metadata": {},
   "outputs": [],
   "source": [
    "creation_backup_Qualif(lien)"
   ]
  },
  {
   "cell_type": "markdown",
   "metadata": {},
   "source": [
    "# DataFrame de toutes les coupes pour toutes les années"
   ]
  },
  {
   "cell_type": "code",
   "execution_count": 2,
   "metadata": {
    "tags": []
   },
   "outputs": [],
   "source": [
    "Debut=1930\n",
    "Fin=2018\n",
    "an = Intro.annee(Debut, Fin)"
   ]
  },
  {
   "cell_type": "code",
   "execution_count": 3,
   "metadata": {},
   "outputs": [],
   "source": [
    "code = Intro.all_coupe(Debut,Fin)"
   ]
  },
  {
   "cell_type": "code",
   "execution_count": 4,
   "metadata": {
    "collapsed": true,
    "jupyter": {
     "outputs_hidden": true
    },
    "tags": []
   },
   "outputs": [
    {
     "name": "stderr",
     "output_type": "stream",
     "text": [
      "C:\\Users\\pycar\\Documents\\Master\\M2\\Semestre 1\\Machine Learning\\formatage.py:57: GuessedAtParserWarning: No parser was explicitly specified, so I'm using the best available HTML parser for this system (\"lxml\"). This usually isn't a problem, but if you run this code on another system, or in a different virtual environment, it may use a different parser and behave differently.\n",
      "\n",
      "The code that caused this warning is on line 57 of the file C:\\Users\\pycar\\Documents\\Master\\M2\\Semestre 1\\Machine Learning\\formatage.py. To get rid of this warning, pass the additional argument 'features=\"lxml\"' to the BeautifulSoup constructor.\n",
      "\n",
      "  soupe_all=BS(code[annee])\n"
     ]
    }
   ],
   "source": [
    "data = Resume.data(code)"
   ]
  },
  {
   "cell_type": "markdown",
   "metadata": {},
   "source": [
    "# Fixage d'années"
   ]
  },
  {
   "cell_type": "code",
   "execution_count": 5,
   "metadata": {},
   "outputs": [],
   "source": [
    "Fixe.fixe_annee(data, an)"
   ]
  },
  {
   "cell_type": "code",
   "execution_count": 6,
   "metadata": {},
   "outputs": [
    {
     "name": "stderr",
     "output_type": "stream",
     "text": [
      "C:\\Users\\pycar\\Documents\\Master\\M2\\Semestre 1\\Machine Learning\\nettoyage.py:29: FutureWarning: In a future version of pandas all arguments of DataFrame.drop except for the argument 'labels' will be keyword-only\n",
      "  data.drop(869,0,inplace=True)\n"
     ]
    }
   ],
   "source": [
    "Fixe.enleve_n(data)"
   ]
  },
  {
   "cell_type": "markdown",
   "metadata": {},
   "source": [
    "## Injection des lignes manquantes"
   ]
  },
  {
   "cell_type": "code",
   "execution_count": 7,
   "metadata": {},
   "outputs": [],
   "source": [
    "Fixe.fixe_manque(data)"
   ]
  },
  {
   "cell_type": "markdown",
   "metadata": {},
   "source": [
    "## Instauration des situations de match"
   ]
  },
  {
   "cell_type": "code",
   "execution_count": 8,
   "metadata": {
    "collapsed": true,
    "jupyter": {
     "outputs_hidden": true
    },
    "tags": []
   },
   "outputs": [
    {
     "name": "stderr",
     "output_type": "stream",
     "text": [
      "C:\\Users\\pycar\\Documents\\Master\\M2\\Semestre 1\\Machine Learning\\nettoyage.py:67: SettingWithCopyWarning: \n",
      "A value is trying to be set on a copy of a slice from a DataFrame.\n",
      "Try using .loc[row_indexer,col_indexer] = value instead\n",
      "\n",
      "See the caveats in the documentation: https://pandas.pydata.org/pandas-docs/stable/user_guide/indexing.html#returning-a-view-versus-a-copy\n",
      "  cdm1930[\"Situation\"]=\"\"\n",
      "C:\\Users\\pycar\\Documents\\Master\\M2\\Semestre 1\\Machine Learning\\nettoyage.py:68: SettingWithCopyWarning: \n",
      "A value is trying to be set on a copy of a slice from a DataFrame\n",
      "\n",
      "See the caveats in the documentation: https://pandas.pydata.org/pandas-docs/stable/user_guide/indexing.html#returning-a-view-versus-a-copy\n",
      "  cdm1930[\"Situation\"][0:15]= cdm1930[\"Situation\"][0:15].replace(\"\",\"Poule\")\n",
      "C:\\Users\\pycar\\anaconda3\\lib\\site-packages\\pandas\\core\\series.py:1105: SettingWithCopyWarning: \n",
      "A value is trying to be set on a copy of a slice from a DataFrame\n",
      "\n",
      "See the caveats in the documentation: https://pandas.pydata.org/pandas-docs/stable/user_guide/indexing.html#returning-a-view-versus-a-copy\n",
      "  return self._set_values(indexer, value)\n",
      "C:\\Users\\pycar\\Documents\\Master\\M2\\Semestre 1\\Machine Learning\\nettoyage.py:69: SettingWithCopyWarning: \n",
      "A value is trying to be set on a copy of a slice from a DataFrame\n",
      "\n",
      "See the caveats in the documentation: https://pandas.pydata.org/pandas-docs/stable/user_guide/indexing.html#returning-a-view-versus-a-copy\n",
      "  cdm1930[\"Situation\"][15:17]= cdm1930[\"Situation\"][15:17].replace(\"\",\"1/2F\")\n",
      "C:\\Users\\pycar\\Documents\\Master\\M2\\Semestre 1\\Machine Learning\\nettoyage.py:70: SettingWithCopyWarning: \n",
      "A value is trying to be set on a copy of a slice from a DataFrame\n",
      "\n",
      "See the caveats in the documentation: https://pandas.pydata.org/pandas-docs/stable/user_guide/indexing.html#returning-a-view-versus-a-copy\n",
      "  cdm1930[\"Situation\"][17]= cdm1930[\"Situation\"][17].replace(\"\",\"Finale\")\n",
      "C:\\Users\\pycar\\Documents\\Master\\M2\\Semestre 1\\Machine Learning\\nettoyage.py:73: SettingWithCopyWarning: \n",
      "A value is trying to be set on a copy of a slice from a DataFrame.\n",
      "Try using .loc[row_indexer,col_indexer] = value instead\n",
      "\n",
      "See the caveats in the documentation: https://pandas.pydata.org/pandas-docs/stable/user_guide/indexing.html#returning-a-view-versus-a-copy\n",
      "  cdm1934[\"Situation\"]=0\n",
      "C:\\Users\\pycar\\Documents\\Master\\M2\\Semestre 1\\Machine Learning\\nettoyage.py:74: SettingWithCopyWarning: \n",
      "A value is trying to be set on a copy of a slice from a DataFrame\n",
      "\n",
      "See the caveats in the documentation: https://pandas.pydata.org/pandas-docs/stable/user_guide/indexing.html#returning-a-view-versus-a-copy\n",
      "  cdm1934[\"Situation\"][0:8]=\"1/8F\"\n",
      "C:\\Users\\pycar\\anaconda3\\lib\\site-packages\\pandas\\core\\series.py:1056: SettingWithCopyWarning: \n",
      "A value is trying to be set on a copy of a slice from a DataFrame\n",
      "\n",
      "See the caveats in the documentation: https://pandas.pydata.org/pandas-docs/stable/user_guide/indexing.html#returning-a-view-versus-a-copy\n",
      "  cacher_needs_updating = self._check_is_chained_assignment_possible()\n",
      "C:\\Users\\pycar\\Documents\\Master\\M2\\Semestre 1\\Machine Learning\\nettoyage.py:81: SettingWithCopyWarning: \n",
      "A value is trying to be set on a copy of a slice from a DataFrame.\n",
      "Try using .loc[row_indexer,col_indexer] = value instead\n",
      "\n",
      "See the caveats in the documentation: https://pandas.pydata.org/pandas-docs/stable/user_guide/indexing.html#returning-a-view-versus-a-copy\n",
      "  cdm1938[\"Situation\"]=0\n",
      "C:\\Users\\pycar\\Documents\\Master\\M2\\Semestre 1\\Machine Learning\\nettoyage.py:82: SettingWithCopyWarning: \n",
      "A value is trying to be set on a copy of a slice from a DataFrame\n",
      "\n",
      "See the caveats in the documentation: https://pandas.pydata.org/pandas-docs/stable/user_guide/indexing.html#returning-a-view-versus-a-copy\n",
      "  cdm1938[\"Situation\"][0:9]=\"1/8F\"\n",
      "C:\\Users\\pycar\\Documents\\Master\\M2\\Semestre 1\\Machine Learning\\nettoyage.py:89: SettingWithCopyWarning: \n",
      "A value is trying to be set on a copy of a slice from a DataFrame.\n",
      "Try using .loc[row_indexer,col_indexer] = value instead\n",
      "\n",
      "See the caveats in the documentation: https://pandas.pydata.org/pandas-docs/stable/user_guide/indexing.html#returning-a-view-versus-a-copy\n",
      "  cdm1950[\"Situation\"]=0\n",
      "C:\\Users\\pycar\\Documents\\Master\\M2\\Semestre 1\\Machine Learning\\nettoyage.py:90: SettingWithCopyWarning: \n",
      "A value is trying to be set on a copy of a slice from a DataFrame\n",
      "\n",
      "See the caveats in the documentation: https://pandas.pydata.org/pandas-docs/stable/user_guide/indexing.html#returning-a-view-versus-a-copy\n",
      "  cdm1950[\"Situation\"][0:16]=\"Poule\"\n",
      "C:\\Users\\pycar\\Documents\\Master\\M2\\Semestre 1\\Machine Learning\\nettoyage.py:96: SettingWithCopyWarning: \n",
      "A value is trying to be set on a copy of a slice from a DataFrame.\n",
      "Try using .loc[row_indexer,col_indexer] = value instead\n",
      "\n",
      "See the caveats in the documentation: https://pandas.pydata.org/pandas-docs/stable/user_guide/indexing.html#returning-a-view-versus-a-copy\n",
      "  cdm1954[\"Situation\"]=0\n",
      "C:\\Users\\pycar\\Documents\\Master\\M2\\Semestre 1\\Machine Learning\\nettoyage.py:97: SettingWithCopyWarning: \n",
      "A value is trying to be set on a copy of a slice from a DataFrame\n",
      "\n",
      "See the caveats in the documentation: https://pandas.pydata.org/pandas-docs/stable/user_guide/indexing.html#returning-a-view-versus-a-copy\n",
      "  cdm1954[\"Situation\"][0:18]=\"Poule\"\n",
      "C:\\Users\\pycar\\Documents\\Master\\M2\\Semestre 1\\Machine Learning\\nettoyage.py:105: SettingWithCopyWarning: \n",
      "A value is trying to be set on a copy of a slice from a DataFrame.\n",
      "Try using .loc[row_indexer,col_indexer] = value instead\n",
      "\n",
      "See the caveats in the documentation: https://pandas.pydata.org/pandas-docs/stable/user_guide/indexing.html#returning-a-view-versus-a-copy\n",
      "  cdm1958[\"Situation\"]=0\n",
      "C:\\Users\\pycar\\Documents\\Master\\M2\\Semestre 1\\Machine Learning\\nettoyage.py:106: SettingWithCopyWarning: \n",
      "A value is trying to be set on a copy of a slice from a DataFrame\n",
      "\n",
      "See the caveats in the documentation: https://pandas.pydata.org/pandas-docs/stable/user_guide/indexing.html#returning-a-view-versus-a-copy\n",
      "  cdm1958[\"Situation\"][0:27]=\"Poule\"\n",
      "C:\\Users\\pycar\\Documents\\Master\\M2\\Semestre 1\\Machine Learning\\nettoyage.py:114: SettingWithCopyWarning: \n",
      "A value is trying to be set on a copy of a slice from a DataFrame.\n",
      "Try using .loc[row_indexer,col_indexer] = value instead\n",
      "\n",
      "See the caveats in the documentation: https://pandas.pydata.org/pandas-docs/stable/user_guide/indexing.html#returning-a-view-versus-a-copy\n",
      "  cdm1974[\"Situation\"]=0\n",
      "C:\\Users\\pycar\\Documents\\Master\\M2\\Semestre 1\\Machine Learning\\nettoyage.py:115: SettingWithCopyWarning: \n",
      "A value is trying to be set on a copy of a slice from a DataFrame\n",
      "\n",
      "See the caveats in the documentation: https://pandas.pydata.org/pandas-docs/stable/user_guide/indexing.html#returning-a-view-versus-a-copy\n",
      "  cdm1974[\"Situation\"][0:24]=\"Poule\"\n",
      "C:\\Users\\pycar\\Documents\\Master\\M2\\Semestre 1\\Machine Learning\\nettoyage.py:122: SettingWithCopyWarning: \n",
      "A value is trying to be set on a copy of a slice from a DataFrame.\n",
      "Try using .loc[row_indexer,col_indexer] = value instead\n",
      "\n",
      "See the caveats in the documentation: https://pandas.pydata.org/pandas-docs/stable/user_guide/indexing.html#returning-a-view-versus-a-copy\n",
      "  cdm1978[\"Situation\"]=0\n",
      "C:\\Users\\pycar\\Documents\\Master\\M2\\Semestre 1\\Machine Learning\\nettoyage.py:123: SettingWithCopyWarning: \n",
      "A value is trying to be set on a copy of a slice from a DataFrame\n",
      "\n",
      "See the caveats in the documentation: https://pandas.pydata.org/pandas-docs/stable/user_guide/indexing.html#returning-a-view-versus-a-copy\n",
      "  cdm1978[\"Situation\"][0:24]=\"Poule\"\n",
      "C:\\Users\\pycar\\Documents\\Master\\M2\\Semestre 1\\Machine Learning\\nettoyage.py:130: SettingWithCopyWarning: \n",
      "A value is trying to be set on a copy of a slice from a DataFrame.\n",
      "Try using .loc[row_indexer,col_indexer] = value instead\n",
      "\n",
      "See the caveats in the documentation: https://pandas.pydata.org/pandas-docs/stable/user_guide/indexing.html#returning-a-view-versus-a-copy\n",
      "  cdm1982[\"Situation\"]=0\n",
      "C:\\Users\\pycar\\Documents\\Master\\M2\\Semestre 1\\Machine Learning\\nettoyage.py:131: SettingWithCopyWarning: \n",
      "A value is trying to be set on a copy of a slice from a DataFrame\n",
      "\n",
      "See the caveats in the documentation: https://pandas.pydata.org/pandas-docs/stable/user_guide/indexing.html#returning-a-view-versus-a-copy\n",
      "  cdm1982[\"Situation\"][0:36]=\"Poule\"\n",
      "C:\\Users\\pycar\\Documents\\Master\\M2\\Semestre 1\\Machine Learning\\nettoyage.py:152: SettingWithCopyWarning: \n",
      "A value is trying to be set on a copy of a slice from a DataFrame\n",
      "\n",
      "See the caveats in the documentation: https://pandas.pydata.org/pandas-docs/stable/user_guide/indexing.html#returning-a-view-versus-a-copy\n",
      "  selec[\"Situation\"][0:row_poul]=\"Poule\"\n",
      "C:\\Users\\pycar\\Documents\\Master\\M2\\Semestre 1\\Machine Learning\\nettoyage.py:153: SettingWithCopyWarning: \n",
      "A value is trying to be set on a copy of a slice from a DataFrame\n",
      "\n",
      "See the caveats in the documentation: https://pandas.pydata.org/pandas-docs/stable/user_guide/indexing.html#returning-a-view-versus-a-copy\n",
      "  selec[\"Situation\"][row_poul:int(row_poul+4)]=\"1/4F\"\n",
      "C:\\Users\\pycar\\Documents\\Master\\M2\\Semestre 1\\Machine Learning\\nettoyage.py:154: SettingWithCopyWarning: \n",
      "A value is trying to be set on a copy of a slice from a DataFrame\n",
      "\n",
      "See the caveats in the documentation: https://pandas.pydata.org/pandas-docs/stable/user_guide/indexing.html#returning-a-view-versus-a-copy\n",
      "  selec[\"Situation\"][int(row_poul+4):int(row_poul+4+2)]=\"1/2F\"\n",
      "C:\\Users\\pycar\\Documents\\Master\\M2\\Semestre 1\\Machine Learning\\nettoyage.py:155: SettingWithCopyWarning: \n",
      "A value is trying to be set on a copy of a slice from a DataFrame\n",
      "\n",
      "See the caveats in the documentation: https://pandas.pydata.org/pandas-docs/stable/user_guide/indexing.html#returning-a-view-versus-a-copy\n",
      "  selec[\"Situation\"][len(selec)-2:len(selec)]=[\"Troisieme\",\"Finale\"]\n",
      "C:\\Users\\pycar\\Documents\\Master\\M2\\Semestre 1\\Machine Learning\\nettoyage.py:172: SettingWithCopyWarning: \n",
      "A value is trying to be set on a copy of a slice from a DataFrame\n",
      "\n",
      "See the caveats in the documentation: https://pandas.pydata.org/pandas-docs/stable/user_guide/indexing.html#returning-a-view-versus-a-copy\n",
      "  selec[\"Situation\"][0:row_poul]=\"Poule\"\n",
      "C:\\Users\\pycar\\Documents\\Master\\M2\\Semestre 1\\Machine Learning\\nettoyage.py:173: SettingWithCopyWarning: \n",
      "A value is trying to be set on a copy of a slice from a DataFrame\n",
      "\n",
      "See the caveats in the documentation: https://pandas.pydata.org/pandas-docs/stable/user_guide/indexing.html#returning-a-view-versus-a-copy\n",
      "  selec[\"Situation\"][row_poul:int(row_poul+8)]=\"1/8F\"\n",
      "C:\\Users\\pycar\\Documents\\Master\\M2\\Semestre 1\\Machine Learning\\nettoyage.py:174: SettingWithCopyWarning: \n",
      "A value is trying to be set on a copy of a slice from a DataFrame\n",
      "\n",
      "See the caveats in the documentation: https://pandas.pydata.org/pandas-docs/stable/user_guide/indexing.html#returning-a-view-versus-a-copy\n",
      "  selec[\"Situation\"][int(row_poul+8):int(row_poul+8+4)]=\"1/4F\"\n",
      "C:\\Users\\pycar\\Documents\\Master\\M2\\Semestre 1\\Machine Learning\\nettoyage.py:175: SettingWithCopyWarning: \n",
      "A value is trying to be set on a copy of a slice from a DataFrame\n",
      "\n",
      "See the caveats in the documentation: https://pandas.pydata.org/pandas-docs/stable/user_guide/indexing.html#returning-a-view-versus-a-copy\n",
      "  selec[\"Situation\"][int(row_poul+8+4):int(row_poul+8+4+2)]=\"1/2F\"\n",
      "C:\\Users\\pycar\\Documents\\Master\\M2\\Semestre 1\\Machine Learning\\nettoyage.py:176: SettingWithCopyWarning: \n",
      "A value is trying to be set on a copy of a slice from a DataFrame\n",
      "\n",
      "See the caveats in the documentation: https://pandas.pydata.org/pandas-docs/stable/user_guide/indexing.html#returning-a-view-versus-a-copy\n",
      "  selec[\"Situation\"][len(selec)-2:len(selec)]=[\"Troisieme\",\"Finale\"]\n"
     ]
    }
   ],
   "source": [
    "data = Fixe.fixe_situation(data)"
   ]
  },
  {
   "cell_type": "markdown",
   "metadata": {},
   "source": [
    "## Pays Organisateur"
   ]
  },
  {
   "cell_type": "code",
   "execution_count": 9,
   "metadata": {},
   "outputs": [
    {
     "data": {
      "text/html": [
       "<div>\n",
       "<style scoped>\n",
       "    .dataframe tbody tr th:only-of-type {\n",
       "        vertical-align: middle;\n",
       "    }\n",
       "\n",
       "    .dataframe tbody tr th {\n",
       "        vertical-align: top;\n",
       "    }\n",
       "\n",
       "    .dataframe thead th {\n",
       "        text-align: right;\n",
       "    }\n",
       "</style>\n",
       "<table border=\"1\" class=\"dataframe\">\n",
       "  <thead>\n",
       "    <tr style=\"text-align: right;\">\n",
       "      <th></th>\n",
       "      <th>lieu</th>\n",
       "      <th>equipe_1</th>\n",
       "      <th>equipe_2</th>\n",
       "      <th>score</th>\n",
       "      <th>affluence</th>\n",
       "      <th>Annee</th>\n",
       "      <th>Situation</th>\n",
       "    </tr>\n",
       "  </thead>\n",
       "  <tbody>\n",
       "    <tr>\n",
       "      <th>0</th>\n",
       "      <td>Uruguay</td>\n",
       "      <td>France</td>\n",
       "      <td>Mexique</td>\n",
       "      <td>4-1</td>\n",
       "      <td>1000</td>\n",
       "      <td>1930</td>\n",
       "      <td>Poule</td>\n",
       "    </tr>\n",
       "    <tr>\n",
       "      <th>1</th>\n",
       "      <td>Uruguay</td>\n",
       "      <td>Argentine</td>\n",
       "      <td>France</td>\n",
       "      <td>1-0</td>\n",
       "      <td>3000</td>\n",
       "      <td>1930</td>\n",
       "      <td>Poule</td>\n",
       "    </tr>\n",
       "    <tr>\n",
       "      <th>2</th>\n",
       "      <td>Uruguay</td>\n",
       "      <td>Chili</td>\n",
       "      <td>Mexique</td>\n",
       "      <td>3-0</td>\n",
       "      <td>500</td>\n",
       "      <td>1930</td>\n",
       "      <td>Poule</td>\n",
       "    </tr>\n",
       "    <tr>\n",
       "      <th>3</th>\n",
       "      <td>Uruguay</td>\n",
       "      <td>Chili</td>\n",
       "      <td>France</td>\n",
       "      <td>1-0</td>\n",
       "      <td>2000</td>\n",
       "      <td>1930</td>\n",
       "      <td>Poule</td>\n",
       "    </tr>\n",
       "    <tr>\n",
       "      <th>4</th>\n",
       "      <td>Uruguay</td>\n",
       "      <td>Argentine</td>\n",
       "      <td>Mexique</td>\n",
       "      <td>6-3</td>\n",
       "      <td>5000</td>\n",
       "      <td>1930</td>\n",
       "      <td>Poule</td>\n",
       "    </tr>\n",
       "    <tr>\n",
       "      <th>...</th>\n",
       "      <td>...</td>\n",
       "      <td>...</td>\n",
       "      <td>...</td>\n",
       "      <td>...</td>\n",
       "      <td>...</td>\n",
       "      <td>...</td>\n",
       "      <td>...</td>\n",
       "    </tr>\n",
       "    <tr>\n",
       "      <th>872</th>\n",
       "      <td>Russie</td>\n",
       "      <td>Russie</td>\n",
       "      <td>Croatie</td>\n",
       "      <td>2-2</td>\n",
       "      <td>44287</td>\n",
       "      <td>2018</td>\n",
       "      <td>1/4F</td>\n",
       "    </tr>\n",
       "    <tr>\n",
       "      <th>873</th>\n",
       "      <td>Russie</td>\n",
       "      <td>Croatie</td>\n",
       "      <td>Angleterre</td>\n",
       "      <td>2-1</td>\n",
       "      <td>78011</td>\n",
       "      <td>2018</td>\n",
       "      <td>1/4F</td>\n",
       "    </tr>\n",
       "    <tr>\n",
       "      <th>874</th>\n",
       "      <td>Russie</td>\n",
       "      <td>France</td>\n",
       "      <td>Belgique</td>\n",
       "      <td>1-0</td>\n",
       "      <td>64286</td>\n",
       "      <td>2018</td>\n",
       "      <td>1/2F</td>\n",
       "    </tr>\n",
       "    <tr>\n",
       "      <th>875</th>\n",
       "      <td>Russie</td>\n",
       "      <td>Belgique</td>\n",
       "      <td>Angleterre</td>\n",
       "      <td>2-0</td>\n",
       "      <td>64406</td>\n",
       "      <td>2018</td>\n",
       "      <td>Troisieme</td>\n",
       "    </tr>\n",
       "    <tr>\n",
       "      <th>876</th>\n",
       "      <td>Russie</td>\n",
       "      <td>France</td>\n",
       "      <td>Croatie</td>\n",
       "      <td>4-2</td>\n",
       "      <td>78011</td>\n",
       "      <td>2018</td>\n",
       "      <td>Finale</td>\n",
       "    </tr>\n",
       "  </tbody>\n",
       "</table>\n",
       "<p>877 rows × 7 columns</p>\n",
       "</div>"
      ],
      "text/plain": [
       "        lieu   equipe_1    equipe_2 score  affluence  Annee  Situation\n",
       "0    Uruguay     France     Mexique   4-1       1000   1930      Poule\n",
       "1    Uruguay  Argentine      France   1-0       3000   1930      Poule\n",
       "2    Uruguay      Chili     Mexique   3-0        500   1930      Poule\n",
       "3    Uruguay      Chili      France   1-0       2000   1930      Poule\n",
       "4    Uruguay  Argentine     Mexique   6-3       5000   1930      Poule\n",
       "..       ...        ...         ...   ...        ...    ...        ...\n",
       "872   Russie     Russie     Croatie   2-2      44287   2018       1/4F\n",
       "873   Russie    Croatie  Angleterre   2-1      78011   2018       1/4F\n",
       "874   Russie     France    Belgique   1-0      64286   2018       1/2F\n",
       "875   Russie   Belgique  Angleterre   2-0      64406   2018  Troisieme\n",
       "876   Russie     France     Croatie   4-2      78011   2018     Finale\n",
       "\n",
       "[877 rows x 7 columns]"
      ]
     },
     "execution_count": 9,
     "metadata": {},
     "output_type": "execute_result"
    }
   ],
   "source": [
    "Fixe.fixe_lieu(data)"
   ]
  },
  {
   "cell_type": "markdown",
   "metadata": {},
   "source": [
    "# Reconstitution groupe de la futur coupe du monde 2022"
   ]
  },
  {
   "cell_type": "markdown",
   "metadata": {},
   "source": [
    "Nous avons donc nos données de toutes les coupes du monde, il nous faut maintenant les groupes actuel pour la prochaine coupe du monde, actuellement les qualifications sont toujours actualité, il faut donc reconstituer les groupes de poules pour chaque continent.\n",
    "\n",
    "De même que les places disponible au nombre de 26 sont scindés entre chaque continent :\n",
    "\n",
    "- Europe (UEFA) : 13\n",
    "- Afrique (CAF) : 5\n",
    "- Amérique du Sud (CONMEBOL) : 5\n",
    "- Asie avec Australie (AFC) : 4\n",
    "- Amérique du Nord, Centrale et Caraïbes (CONCACAF) : 3\n",
    "- Océanie (OFC) : 2\n",
    "\n",
    "Prenons le cas de l'Europe qui dispose de 13 places, les 10 places sont les premiers de chaque groupes puis les 2ème de chaque groupe se disputent les 3 places restantes, nous allons simplement scrapper les groupes des chaque continent qualifié automatiquement les premiers et regarder ceux qui ont le plus grand nombre de points dans les deuxième (le scrapping sera appliqué uniquement à l'europe car les autres continent cela reviens à faire un code qui alourdit le notebook en y rajoutant 4 lignes pour la plus part, on privilégiera l'insertion manuelle.\n",
    "\n",
    "La seule hypothèse ici viens du fait que certains match n'on pas encore été joué par tout le monde, mais au vu du classement il y devrait avoir peu de surprise (comme nous arrivons aux fins de qualification certaines équipes n'ont pas joué leurs derniers match, mais comme elles jouent contre le dernier de leur groupe les places ne devraient donc pas trop bouger)."
   ]
  },
  {
   "cell_type": "code",
   "execution_count": 10,
   "metadata": {},
   "outputs": [
    {
     "name": "stderr",
     "output_type": "stream",
     "text": [
      "C:\\Users\\pycar\\Documents\\Master\\M2\\Semestre 1\\Machine Learning\\formatage.py:128: GuessedAtParserWarning: No parser was explicitly specified, so I'm using the best available HTML parser for this system (\"lxml\"). This usually isn't a problem, but if you run this code on another system, or in a different virtual environment, it may use a different parser and behave differently.\n",
      "\n",
      "The code that caused this warning is on line 128 of the file C:\\Users\\pycar\\Documents\\Master\\M2\\Semestre 1\\Machine Learning\\formatage.py. To get rid of this warning, pass the additional argument 'features=\"lxml\"' to the BeautifulSoup constructor.\n",
      "\n",
      "  code_cont = BS(code_continent)\n"
     ]
    },
    {
     "data": {
      "text/plain": [
       "0              Serbie\n",
       "5             Espagne\n",
       "10             Suisse\n",
       "15             France\n",
       "20           Belgique\n",
       "25           Danemark\n",
       "31           Pays-Bas\n",
       "37            Croatie\n",
       "43         Angleterre\n",
       "49          Allemagne\n",
       "26             Écosse\n",
       "38             Russie\n",
       "1            Portugal\n",
       "0              Canada\n",
       "1          États-Unis\n",
       "2             Mexique\n",
       "0              Brésil\n",
       "1           Argentine\n",
       "2            Equateur\n",
       "3            Colombie\n",
       "4               Pérou\n",
       "25              Japon\n",
       "5           Australie\n",
       "20              Qatar\n",
       "46    Arabie saoudite\n",
       "40               Iran\n",
       "35       Corée du Sud\n",
       "32              Maroc\n",
       "16               Mali\n",
       "28            Sénégal\n",
       "12           Cameroun\n",
       "0             Algérie\n",
       "Name: Equipe, dtype: object"
      ]
     },
     "execution_count": 10,
     "metadata": {},
     "output_type": "execute_result"
    }
   ],
   "source": [
    "Qualif.team_qualifie(data)"
   ]
  },
  {
   "cell_type": "markdown",
   "metadata": {},
   "source": [
    "# Placement des équipes aux groupes de poules"
   ]
  },
  {
   "cell_type": "markdown",
   "metadata": {},
   "source": [
    "Notre seule hypothèse vient du faire que les 32 équipes subissent un tirage au sort pour déterminer leurs groupes de poule, actuellement le tirage au sort n'a pas été effectué, nos effectuons (informatiquement) un tirage au sort, mais celui-ci peut drastiquement se différentier par rapport au vrai tirage qui aura lieu en avril 2022."
   ]
  },
  {
   "cell_type": "code",
   "execution_count": 11,
   "metadata": {},
   "outputs": [
    {
     "data": {
      "text/plain": [
       "['Sénégal',\n",
       " 'Colombie',\n",
       " 'France',\n",
       " 'Angleterre',\n",
       " 'Suisse',\n",
       " 'Croatie',\n",
       " 'Russie',\n",
       " 'Cameroun',\n",
       " 'Belgique',\n",
       " 'Mali',\n",
       " 'Canada',\n",
       " 'Qatar',\n",
       " 'Algérie',\n",
       " 'Maroc',\n",
       " 'Mexique',\n",
       " 'Equateur',\n",
       " 'Japon',\n",
       " 'Brésil',\n",
       " 'Portugal',\n",
       " 'Allemagne',\n",
       " 'Pérou',\n",
       " 'Écosse',\n",
       " 'Espagne',\n",
       " 'Iran',\n",
       " 'Corée du Sud',\n",
       " 'Pays-Bas',\n",
       " 'Argentine',\n",
       " 'États-Unis',\n",
       " 'Danemark',\n",
       " 'Arabie saoudite',\n",
       " 'Serbie',\n",
       " 'Australie']"
      ]
     },
     "execution_count": 11,
     "metadata": {},
     "output_type": "execute_result"
    }
   ],
   "source": [
    "Qualifier = Qualif.team_qualifie(data)\n",
    "Tournement.tirage_aleatoire(Qualifier)"
   ]
  },
  {
   "cell_type": "markdown",
   "metadata": {},
   "source": [
    "Ici on a privilégié une liste déjà établit qui par chance à le Quatar en première position, mais à la place on peut très simplement mettre Poule = Tournement.tirage_aleatoire(Qualifier) en s'arrangeant d'avoir toujours le Quatar en première position."
   ]
  },
  {
   "cell_type": "code",
   "execution_count": 12,
   "metadata": {
    "tags": []
   },
   "outputs": [],
   "source": [
    "Poule=['Qatar','Algerie','Pays-Bas','Equateur','Mali','Mexique','etats-Unis','Danemark','Iran',\n",
    " 'Suisse','Portugal','Ecosse','Maroc','Espagne','Australie','Cameroun','Allemagne','Arabie saoudite',\n",
    " 'Croatie','Angleterre','Colombie','France','Coree du Sud','Bresil','Canada','Japon','Argentine','Serbie',\n",
    " 'Senegal','Russie','Belgique','Perou']"
   ]
  },
  {
   "cell_type": "code",
   "execution_count": 13,
   "metadata": {},
   "outputs": [
    {
     "name": "stdout",
     "output_type": "stream",
     "text": [
      "La nation Qatar s'est présenté 0 fois.\n",
      "La nation Algerie s'est présenté 10 fois.\n",
      "La nation Pays-Bas s'est présenté 50 fois.\n",
      "La nation Equateur s'est présenté 10 fois.\n",
      "---------------------------------------------------------------\n",
      "La nation Mali s'est présenté 0 fois.\n",
      "La nation Mexique s'est présenté 57 fois.\n",
      "La nation etats-Unis s'est présenté 0 fois.\n",
      "La nation Danemark s'est présenté 20 fois.\n",
      "---------------------------------------------------------------\n",
      "La nation Iran s'est présenté 12 fois.\n",
      "La nation Suisse s'est présenté 38 fois.\n",
      "La nation Portugal s'est présenté 27 fois.\n",
      "La nation Ecosse s'est présenté 23 fois.\n",
      "---------------------------------------------------------------\n",
      "La nation Maroc s'est présenté 16 fois.\n",
      "La nation Espagne s'est présenté 62 fois.\n",
      "La nation Australie s'est présenté 15 fois.\n",
      "La nation Cameroun s'est présenté 23 fois.\n",
      "---------------------------------------------------------------\n",
      "La nation Allemagne s'est présenté 106 fois.\n",
      "La nation Arabie saoudite s'est présenté 0 fois.\n",
      "La nation Croatie s'est présenté 23 fois.\n",
      "La nation Angleterre s'est présenté 69 fois.\n",
      "---------------------------------------------------------------\n",
      "La nation Colombie s'est présenté 22 fois.\n",
      "La nation France s'est présenté 66 fois.\n",
      "La nation Coree du Sud s'est présenté 31 fois.\n",
      "La nation Bresil s'est présenté 108 fois.\n",
      "---------------------------------------------------------------\n",
      "La nation Canada s'est présenté 3 fois.\n",
      "La nation Japon s'est présenté 20 fois.\n",
      "La nation Argentine s'est présenté 78 fois.\n",
      "La nation Serbie s'est présenté 9 fois.\n",
      "---------------------------------------------------------------\n",
      "La nation Senegal s'est présenté 8 fois.\n",
      "La nation Russie s'est présenté 11 fois.\n",
      "La nation Belgique s'est présenté 45 fois.\n",
      "La nation Perou s'est présenté 17 fois.\n",
      "---------------------------------------------------------------\n"
     ]
    }
   ],
   "source": [
    "for x in range(0,31,4):\n",
    "    a=len(data[(data[\"equipe_1\"]==Poule[x]) | (data[\"equipe_2\"]==Poule[x])])\n",
    "    b=len(data[(data[\"equipe_1\"]==Poule[x+1]) | (data[\"equipe_2\"]==Poule[x+1])])\n",
    "    c=len(data[(data[\"equipe_1\"]==Poule[x+2]) | (data[\"equipe_2\"]==Poule[x+2])])\n",
    "    d=len(data[(data[\"equipe_1\"]==Poule[x+3]) | (data[\"equipe_2\"]==Poule[x+3])])\n",
    "    print(\"La nation \" + Poule[x] + \" s'est présenté \" + str(a) + \" fois.\")\n",
    "    print(\"La nation \" + Poule[x+1] + \" s'est présenté \" + str(b) + \" fois.\")\n",
    "    print(\"La nation \" + Poule[x+2] + \" s'est présenté \" + str(c) + \" fois.\")\n",
    "    print(\"La nation \" + Poule[x+3] + \" s'est présenté \" + str(d) + \" fois.\")\n",
    "    print(\"---------------------------------------------------------------\")"
   ]
  },
  {
   "cell_type": "markdown",
   "metadata": {},
   "source": [
    "Pour selectionner les 2 meilleurs, ont regarde globalement leur qualifications aux coupe du monde en general, on prend l'exemple de l'Allemagne quasi tout le temps présente contre le Cameroun avec tres peu de données., en cas d'égalité on regarde jusqu'ou à chaque participation ils sont allé."
   ]
  },
  {
   "cell_type": "code",
   "execution_count": 14,
   "metadata": {},
   "outputs": [],
   "source": [
    "Groupe_A = [\"Pays-Bas\",\"Algerie\"]\n",
    "Groupe_B = [\"Mexique\", \"Danemark\"]\n",
    "Groupe_C = [\"Portugal\",\"Suisse\"]\n",
    "Groupe_D = [\"Espagne\" , \"Maroc\"]\n",
    "Groupe_E = [\"Allemagne\" , \"Angleterre\"]\n",
    "Groupe_F = [\"Bresil\", \"France\" ]\n",
    "Groupe_G = [\"Argentine\" , \"Japon\"]\n",
    "Groupe_H = [\"Belgique\" , \"Russie\"]"
   ]
  },
  {
   "cell_type": "markdown",
   "metadata": {},
   "source": [
    "# Huitieme"
   ]
  },
  {
   "cell_type": "code",
   "execution_count": 15,
   "metadata": {},
   "outputs": [],
   "source": [
    "Huitieme = [Groupe_A[0],Groupe_B[1],Groupe_C[0],Groupe_D[1],Groupe_D[0],Groupe_C[1],Groupe_B[0],Groupe_A[1],\n",
    "            Groupe_E[0],Groupe_F[1],Groupe_G[0],Groupe_H[1],Groupe_F[0],Groupe_E[1],Groupe_H[0],Groupe_G[1]]"
   ]
  },
  {
   "cell_type": "code",
   "execution_count": 16,
   "metadata": {
    "collapsed": true,
    "jupyter": {
     "outputs_hidden": true
    },
    "tags": []
   },
   "outputs": [
    {
     "name": "stderr",
     "output_type": "stream",
     "text": [
      "C:\\Users\\pycar\\Documents\\Master\\M2\\Semestre 1\\Machine Learning\\competition.py:33: FutureWarning: Columnar iteration over characters will be deprecated in future releases.\n",
      "  Selec[\"But_marque\"], Selec[\"But_pris\"] = Selec[\"score\"].str.split(\"-\", 1).str\n",
      "C:\\Users\\pycar\\Documents\\Master\\M2\\Semestre 1\\Machine Learning\\competition.py:33: SettingWithCopyWarning: \n",
      "A value is trying to be set on a copy of a slice from a DataFrame.\n",
      "Try using .loc[row_indexer,col_indexer] = value instead\n",
      "\n",
      "See the caveats in the documentation: https://pandas.pydata.org/pandas-docs/stable/user_guide/indexing.html#returning-a-view-versus-a-copy\n",
      "  Selec[\"But_marque\"], Selec[\"But_pris\"] = Selec[\"score\"].str.split(\"-\", 1).str\n",
      "C:\\Users\\pycar\\Documents\\Master\\M2\\Semestre 1\\Machine Learning\\competition.py:35: FutureWarning: Columnar iteration over characters will be deprecated in future releases.\n",
      "  Selec_bis[\"But_pris\"], Selec_bis[\"But_marque\"] = Selec_bis[\"score\"].str.split(\"-\", 1).str\n",
      "C:\\Users\\pycar\\Documents\\Master\\M2\\Semestre 1\\Machine Learning\\competition.py:35: SettingWithCopyWarning: \n",
      "A value is trying to be set on a copy of a slice from a DataFrame.\n",
      "Try using .loc[row_indexer,col_indexer] = value instead\n",
      "\n",
      "See the caveats in the documentation: https://pandas.pydata.org/pandas-docs/stable/user_guide/indexing.html#returning-a-view-versus-a-copy\n",
      "  Selec_bis[\"But_pris\"], Selec_bis[\"But_marque\"] = Selec_bis[\"score\"].str.split(\"-\", 1).str\n"
     ]
    },
    {
     "data": {
      "text/html": [
       "<div>\n",
       "<style scoped>\n",
       "    .dataframe tbody tr th:only-of-type {\n",
       "        vertical-align: middle;\n",
       "    }\n",
       "\n",
       "    .dataframe tbody tr th {\n",
       "        vertical-align: top;\n",
       "    }\n",
       "\n",
       "    .dataframe thead th {\n",
       "        text-align: right;\n",
       "    }\n",
       "</style>\n",
       "<table border=\"1\" class=\"dataframe\">\n",
       "  <thead>\n",
       "    <tr style=\"text-align: right;\">\n",
       "      <th></th>\n",
       "      <th>lieu</th>\n",
       "      <th>equipe_1</th>\n",
       "      <th>equipe_2</th>\n",
       "      <th>score</th>\n",
       "      <th>affluence</th>\n",
       "      <th>Annee</th>\n",
       "      <th>Situation</th>\n",
       "      <th>But_marque</th>\n",
       "      <th>But_pris</th>\n",
       "    </tr>\n",
       "  </thead>\n",
       "  <tbody>\n",
       "    <tr>\n",
       "      <th>242</th>\n",
       "      <td>Allemagne</td>\n",
       "      <td>Pays-Bas</td>\n",
       "      <td>Suede</td>\n",
       "      <td>0-0</td>\n",
       "      <td>53700</td>\n",
       "      <td>1974</td>\n",
       "      <td>Poule</td>\n",
       "      <td>0</td>\n",
       "      <td>0</td>\n",
       "    </tr>\n",
       "    <tr>\n",
       "      <th>244</th>\n",
       "      <td>Allemagne</td>\n",
       "      <td>Pays-Bas</td>\n",
       "      <td>Bulgarie</td>\n",
       "      <td>4-1</td>\n",
       "      <td>52100</td>\n",
       "      <td>1974</td>\n",
       "      <td>Poule</td>\n",
       "      <td>4</td>\n",
       "      <td>1</td>\n",
       "    </tr>\n",
       "    <tr>\n",
       "      <th>247</th>\n",
       "      <td>Allemagne</td>\n",
       "      <td>Pays-Bas</td>\n",
       "      <td>Uruguay</td>\n",
       "      <td>2-0</td>\n",
       "      <td>53700</td>\n",
       "      <td>1974</td>\n",
       "      <td>Poule</td>\n",
       "      <td>2</td>\n",
       "      <td>0</td>\n",
       "    </tr>\n",
       "    <tr>\n",
       "      <th>254</th>\n",
       "      <td>Allemagne</td>\n",
       "      <td>Pays-Bas</td>\n",
       "      <td>Bresil</td>\n",
       "      <td>2-0</td>\n",
       "      <td>52500</td>\n",
       "      <td>1974</td>\n",
       "      <td>1/8F</td>\n",
       "      <td>2</td>\n",
       "      <td>0</td>\n",
       "    </tr>\n",
       "    <tr>\n",
       "      <th>257</th>\n",
       "      <td>Allemagne</td>\n",
       "      <td>Pays-Bas</td>\n",
       "      <td>RDA</td>\n",
       "      <td>2-0</td>\n",
       "      <td>67148</td>\n",
       "      <td>1974</td>\n",
       "      <td>1/8F</td>\n",
       "      <td>2</td>\n",
       "      <td>0</td>\n",
       "    </tr>\n",
       "    <tr>\n",
       "      <th>...</th>\n",
       "      <td>...</td>\n",
       "      <td>...</td>\n",
       "      <td>...</td>\n",
       "      <td>...</td>\n",
       "      <td>...</td>\n",
       "      <td>...</td>\n",
       "      <td>...</td>\n",
       "      <td>...</td>\n",
       "      <td>...</td>\n",
       "    </tr>\n",
       "    <tr>\n",
       "      <th>729</th>\n",
       "      <td>Afrique du Sud</td>\n",
       "      <td>Danemark</td>\n",
       "      <td>Japon</td>\n",
       "      <td>1-3</td>\n",
       "      <td>27967</td>\n",
       "      <td>2010</td>\n",
       "      <td>Poule</td>\n",
       "      <td>3</td>\n",
       "      <td>1</td>\n",
       "    </tr>\n",
       "    <tr>\n",
       "      <th>732</th>\n",
       "      <td>Afrique du Sud</td>\n",
       "      <td>Pays-Bas</td>\n",
       "      <td>Japon</td>\n",
       "      <td>1-0</td>\n",
       "      <td>62010</td>\n",
       "      <td>2010</td>\n",
       "      <td>Poule</td>\n",
       "      <td>0</td>\n",
       "      <td>1</td>\n",
       "    </tr>\n",
       "    <tr>\n",
       "      <th>753</th>\n",
       "      <td>Afrique du Sud</td>\n",
       "      <td>Paraguay</td>\n",
       "      <td>Japon</td>\n",
       "      <td>0-0</td>\n",
       "      <td>36742</td>\n",
       "      <td>2010</td>\n",
       "      <td>1/8F</td>\n",
       "      <td>0</td>\n",
       "      <td>0</td>\n",
       "    </tr>\n",
       "    <tr>\n",
       "      <th>783</th>\n",
       "      <td>Bresil</td>\n",
       "      <td>Cote d'Ivoire</td>\n",
       "      <td>Japon</td>\n",
       "      <td>2-1</td>\n",
       "      <td>40267</td>\n",
       "      <td>2014</td>\n",
       "      <td>Poule</td>\n",
       "      <td>1</td>\n",
       "      <td>2</td>\n",
       "    </tr>\n",
       "    <tr>\n",
       "      <th>860</th>\n",
       "      <td>Russie</td>\n",
       "      <td>Colombie</td>\n",
       "      <td>Japon</td>\n",
       "      <td>1-2</td>\n",
       "      <td>40842</td>\n",
       "      <td>2018</td>\n",
       "      <td>Poule</td>\n",
       "      <td>2</td>\n",
       "      <td>1</td>\n",
       "    </tr>\n",
       "  </tbody>\n",
       "</table>\n",
       "<p>784 rows × 9 columns</p>\n",
       "</div>"
      ],
      "text/plain": [
       "               lieu       equipe_1  equipe_2 score  affluence  Annee  \\\n",
       "242       Allemagne       Pays-Bas     Suede   0-0      53700   1974   \n",
       "244       Allemagne       Pays-Bas  Bulgarie   4-1      52100   1974   \n",
       "247       Allemagne       Pays-Bas   Uruguay   2-0      53700   1974   \n",
       "254       Allemagne       Pays-Bas    Bresil   2-0      52500   1974   \n",
       "257       Allemagne       Pays-Bas       RDA   2-0      67148   1974   \n",
       "..              ...            ...       ...   ...        ...    ...   \n",
       "729  Afrique du Sud       Danemark     Japon   1-3      27967   2010   \n",
       "732  Afrique du Sud       Pays-Bas     Japon   1-0      62010   2010   \n",
       "753  Afrique du Sud       Paraguay     Japon   0-0      36742   2010   \n",
       "783          Bresil  Cote d'Ivoire     Japon   2-1      40267   2014   \n",
       "860          Russie       Colombie     Japon   1-2      40842   2018   \n",
       "\n",
       "    Situation  But_marque  But_pris  \n",
       "242     Poule           0         0  \n",
       "244     Poule           4         1  \n",
       "247     Poule           2         0  \n",
       "254      1/8F           2         0  \n",
       "257      1/8F           2         0  \n",
       "..        ...         ...       ...  \n",
       "729     Poule           3         1  \n",
       "732     Poule           0         1  \n",
       "753      1/8F           0         0  \n",
       "783     Poule           1         2  \n",
       "860     Poule           2         1  \n",
       "\n",
       "[784 rows x 9 columns]"
      ]
     },
     "execution_count": 16,
     "metadata": {},
     "output_type": "execute_result"
    }
   ],
   "source": [
    "Tournement.But(Huitieme,data)"
   ]
  },
  {
   "cell_type": "markdown",
   "metadata": {},
   "source": [
    "## Force d'attaque  et de défense de chaque équipe"
   ]
  },
  {
   "cell_type": "markdown",
   "metadata": {},
   "source": [
    "La force d'attaque est la moyenne de chaque de but de chaque équipe par match divisé par la moyenne de but par match de toutes les équipes.\n",
    "\n",
    "La force de défense est la moyenne de chaque but encaissé de chaque équipe par match divisé par la moyenne de but encaissé de toutes les équipes.\n",
    "\n",
    "Ainsi une équipe qui marque 1 but en moyenne mais qui à une force de défense proche de 0 peut complètement gagner sur une équipe qui marque en moyenne 3 buts et qui à chaque match peut se prendre 5 buts.\n",
    "\n",
    "\n",
    "REMARQUE : Comme toutes les équipes jouent à l'extérieure (Quatar) il ne faut pas prendre en compte les buts marqués et concédés à domicile, seul le Quatar aurait bénéficié de calculer sa force d'attaque et défense à domicile puisque la compétition se déroule exclusivement dans son pays.\n",
    "\n",
    "Exemple les huitièmes de finale se jouent entre les Pays-Bas et l'Algérie :\n",
    "\n",
    "- On calcule la force d'attaque et défense globales de la compétition ( la moyenne des buts marqué et des buts concédés ).\n",
    "\n",
    "- On calcule la force d'attaque de l'Agérie (0.71) et celle des Pays-Bas (0.91).\n",
    "\n",
    "- On calcule la force de défense de l'Algérie (1) et celle des Pays-Bas (0.91).\n",
    "\n",
    "- Le nombre potentiel de but d'une équipe i est la force d'attaque i * la force de défense de l'adversaire * la force d'attaque globale de la compétition.\n",
    "\n",
    "- Le résultat est l'évènement \"but\" espéré de l'équipe i, il représente la paramètre d'une loi de Poisson.\n",
    "\n",
    "- On utilise la loi de Poisson pour calculer les probabilités d'avoir k but avec les espérances de buts calculée auparavant, ainsi on peut voir quelles seront les résultats possible.\n",
    "\n",
    "Formule de la loi de Poisson : $f (k;\\lambda)=\\frac{\\lambda^k\\exp^{-\\lambda}}{k!}$\n",
    "\n",
    "\n",
    "On prédit jusqu'a 5 but par équipe (donc toutes les combinaisons de 0-0 à 5-5), comme nous sommes en huitième de final, nous sommes obligé d'avoir un gagnant."
   ]
  },
  {
   "cell_type": "code",
   "execution_count": 17,
   "metadata": {
    "tags": []
   },
   "outputs": [
    {
     "name": "stderr",
     "output_type": "stream",
     "text": [
      "C:\\Users\\pycar\\Documents\\Master\\M2\\Semestre 1\\Machine Learning\\competition.py:33: FutureWarning: Columnar iteration over characters will be deprecated in future releases.\n",
      "  Selec[\"But_marque\"], Selec[\"But_pris\"] = Selec[\"score\"].str.split(\"-\", 1).str\n",
      "C:\\Users\\pycar\\Documents\\Master\\M2\\Semestre 1\\Machine Learning\\competition.py:33: SettingWithCopyWarning: \n",
      "A value is trying to be set on a copy of a slice from a DataFrame.\n",
      "Try using .loc[row_indexer,col_indexer] = value instead\n",
      "\n",
      "See the caveats in the documentation: https://pandas.pydata.org/pandas-docs/stable/user_guide/indexing.html#returning-a-view-versus-a-copy\n",
      "  Selec[\"But_marque\"], Selec[\"But_pris\"] = Selec[\"score\"].str.split(\"-\", 1).str\n",
      "C:\\Users\\pycar\\Documents\\Master\\M2\\Semestre 1\\Machine Learning\\competition.py:35: FutureWarning: Columnar iteration over characters will be deprecated in future releases.\n",
      "  Selec_bis[\"But_pris\"], Selec_bis[\"But_marque\"] = Selec_bis[\"score\"].str.split(\"-\", 1).str\n",
      "C:\\Users\\pycar\\Documents\\Master\\M2\\Semestre 1\\Machine Learning\\competition.py:35: SettingWithCopyWarning: \n",
      "A value is trying to be set on a copy of a slice from a DataFrame.\n",
      "Try using .loc[row_indexer,col_indexer] = value instead\n",
      "\n",
      "See the caveats in the documentation: https://pandas.pydata.org/pandas-docs/stable/user_guide/indexing.html#returning-a-view-versus-a-copy\n",
      "  Selec_bis[\"But_pris\"], Selec_bis[\"But_marque\"] = Selec_bis[\"score\"].str.split(\"-\", 1).str\n"
     ]
    },
    {
     "data": {
      "text/html": [
       "<div>\n",
       "<style scoped>\n",
       "    .dataframe tbody tr th:only-of-type {\n",
       "        vertical-align: middle;\n",
       "    }\n",
       "\n",
       "    .dataframe tbody tr th {\n",
       "        vertical-align: top;\n",
       "    }\n",
       "\n",
       "    .dataframe thead th {\n",
       "        text-align: right;\n",
       "    }\n",
       "</style>\n",
       "<table border=\"1\" class=\"dataframe\">\n",
       "  <thead>\n",
       "    <tr style=\"text-align: right;\">\n",
       "      <th></th>\n",
       "      <th>But</th>\n",
       "      <th>Pays-Bas</th>\n",
       "      <th>Danemark</th>\n",
       "      <th>Portugal</th>\n",
       "      <th>Maroc</th>\n",
       "      <th>Espagne</th>\n",
       "      <th>Suisse</th>\n",
       "      <th>Mexique</th>\n",
       "      <th>Algerie</th>\n",
       "      <th>Allemagne</th>\n",
       "      <th>France</th>\n",
       "      <th>Argentine</th>\n",
       "      <th>Russie</th>\n",
       "      <th>Bresil</th>\n",
       "      <th>Angleterre</th>\n",
       "      <th>Belgique</th>\n",
       "      <th>Japon</th>\n",
       "    </tr>\n",
       "  </thead>\n",
       "  <tbody>\n",
       "    <tr>\n",
       "      <th>0</th>\n",
       "      <td>0</td>\n",
       "      <td>0.230</td>\n",
       "      <td>0.219</td>\n",
       "      <td>0.229</td>\n",
       "      <td>0.415</td>\n",
       "      <td>0.163</td>\n",
       "      <td>0.247</td>\n",
       "      <td>0.237</td>\n",
       "      <td>0.276</td>\n",
       "      <td>0.117</td>\n",
       "      <td>0.119</td>\n",
       "      <td>0.170</td>\n",
       "      <td>0.148</td>\n",
       "      <td>0.231</td>\n",
       "      <td>0.329</td>\n",
       "      <td>0.213</td>\n",
       "      <td>0.290</td>\n",
       "    </tr>\n",
       "    <tr>\n",
       "      <th>1</th>\n",
       "      <td>1</td>\n",
       "      <td>0.568</td>\n",
       "      <td>0.551</td>\n",
       "      <td>0.567</td>\n",
       "      <td>0.780</td>\n",
       "      <td>0.458</td>\n",
       "      <td>0.593</td>\n",
       "      <td>0.578</td>\n",
       "      <td>0.631</td>\n",
       "      <td>0.369</td>\n",
       "      <td>0.373</td>\n",
       "      <td>0.472</td>\n",
       "      <td>0.430</td>\n",
       "      <td>0.569</td>\n",
       "      <td>0.695</td>\n",
       "      <td>0.542</td>\n",
       "      <td>0.649</td>\n",
       "    </tr>\n",
       "    <tr>\n",
       "      <th>2</th>\n",
       "      <td>2</td>\n",
       "      <td>0.817</td>\n",
       "      <td>0.804</td>\n",
       "      <td>0.816</td>\n",
       "      <td>0.940</td>\n",
       "      <td>0.726</td>\n",
       "      <td>0.834</td>\n",
       "      <td>0.824</td>\n",
       "      <td>0.860</td>\n",
       "      <td>0.638</td>\n",
       "      <td>0.643</td>\n",
       "      <td>0.739</td>\n",
       "      <td>0.700</td>\n",
       "      <td>0.817</td>\n",
       "      <td>0.898</td>\n",
       "      <td>0.797</td>\n",
       "      <td>0.871</td>\n",
       "    </tr>\n",
       "    <tr>\n",
       "      <th>3</th>\n",
       "      <td>3</td>\n",
       "      <td>0.938</td>\n",
       "      <td>0.932</td>\n",
       "      <td>0.938</td>\n",
       "      <td>0.988</td>\n",
       "      <td>0.889</td>\n",
       "      <td>0.947</td>\n",
       "      <td>0.942</td>\n",
       "      <td>0.958</td>\n",
       "      <td>0.831</td>\n",
       "      <td>0.834</td>\n",
       "      <td>0.896</td>\n",
       "      <td>0.872</td>\n",
       "      <td>0.939</td>\n",
       "      <td>0.973</td>\n",
       "      <td>0.928</td>\n",
       "      <td>0.963</td>\n",
       "    </tr>\n",
       "    <tr>\n",
       "      <th>4</th>\n",
       "      <td>4</td>\n",
       "      <td>0.983</td>\n",
       "      <td>0.981</td>\n",
       "      <td>0.983</td>\n",
       "      <td>0.998</td>\n",
       "      <td>0.962</td>\n",
       "      <td>0.986</td>\n",
       "      <td>0.984</td>\n",
       "      <td>0.990</td>\n",
       "      <td>0.934</td>\n",
       "      <td>0.935</td>\n",
       "      <td>0.966</td>\n",
       "      <td>0.955</td>\n",
       "      <td>0.983</td>\n",
       "      <td>0.994</td>\n",
       "      <td>0.979</td>\n",
       "      <td>0.991</td>\n",
       "    </tr>\n",
       "    <tr>\n",
       "      <th>5</th>\n",
       "      <td>5</td>\n",
       "      <td>0.996</td>\n",
       "      <td>0.995</td>\n",
       "      <td>0.996</td>\n",
       "      <td>1.000</td>\n",
       "      <td>0.989</td>\n",
       "      <td>0.997</td>\n",
       "      <td>0.996</td>\n",
       "      <td>0.998</td>\n",
       "      <td>0.978</td>\n",
       "      <td>0.979</td>\n",
       "      <td>0.990</td>\n",
       "      <td>0.986</td>\n",
       "      <td>0.996</td>\n",
       "      <td>0.999</td>\n",
       "      <td>0.995</td>\n",
       "      <td>0.998</td>\n",
       "    </tr>\n",
       "  </tbody>\n",
       "</table>\n",
       "</div>"
      ],
      "text/plain": [
       "   But  Pays-Bas  Danemark  Portugal  Maroc  Espagne  Suisse  Mexique  \\\n",
       "0    0     0.230     0.219     0.229  0.415    0.163   0.247    0.237   \n",
       "1    1     0.568     0.551     0.567  0.780    0.458   0.593    0.578   \n",
       "2    2     0.817     0.804     0.816  0.940    0.726   0.834    0.824   \n",
       "3    3     0.938     0.932     0.938  0.988    0.889   0.947    0.942   \n",
       "4    4     0.983     0.981     0.983  0.998    0.962   0.986    0.984   \n",
       "5    5     0.996     0.995     0.996  1.000    0.989   0.997    0.996   \n",
       "\n",
       "   Algerie  Allemagne  France  Argentine  Russie  Bresil  Angleterre  \\\n",
       "0    0.276      0.117   0.119      0.170   0.148   0.231       0.329   \n",
       "1    0.631      0.369   0.373      0.472   0.430   0.569       0.695   \n",
       "2    0.860      0.638   0.643      0.739   0.700   0.817       0.898   \n",
       "3    0.958      0.831   0.834      0.896   0.872   0.939       0.973   \n",
       "4    0.990      0.934   0.935      0.966   0.955   0.983       0.994   \n",
       "5    0.998      0.978   0.979      0.990   0.986   0.996       0.999   \n",
       "\n",
       "   Belgique  Japon  \n",
       "0     0.213  0.290  \n",
       "1     0.542  0.649  \n",
       "2     0.797  0.871  \n",
       "3     0.928  0.963  \n",
       "4     0.979  0.991  \n",
       "5     0.995  0.998  "
      ]
     },
     "execution_count": 17,
     "metadata": {},
     "output_type": "execute_result"
    }
   ],
   "source": [
    "Tournement.Match_huit(Huitieme,data)"
   ]
  },
  {
   "cell_type": "code",
   "execution_count": 18,
   "metadata": {
    "tags": []
   },
   "outputs": [
    {
     "name": "stderr",
     "output_type": "stream",
     "text": [
      "C:\\Users\\pycar\\Documents\\Master\\M2\\Semestre 1\\Machine Learning\\competition.py:33: FutureWarning: Columnar iteration over characters will be deprecated in future releases.\n",
      "  Selec[\"But_marque\"], Selec[\"But_pris\"] = Selec[\"score\"].str.split(\"-\", 1).str\n",
      "C:\\Users\\pycar\\Documents\\Master\\M2\\Semestre 1\\Machine Learning\\competition.py:33: SettingWithCopyWarning: \n",
      "A value is trying to be set on a copy of a slice from a DataFrame.\n",
      "Try using .loc[row_indexer,col_indexer] = value instead\n",
      "\n",
      "See the caveats in the documentation: https://pandas.pydata.org/pandas-docs/stable/user_guide/indexing.html#returning-a-view-versus-a-copy\n",
      "  Selec[\"But_marque\"], Selec[\"But_pris\"] = Selec[\"score\"].str.split(\"-\", 1).str\n",
      "C:\\Users\\pycar\\Documents\\Master\\M2\\Semestre 1\\Machine Learning\\competition.py:35: FutureWarning: Columnar iteration over characters will be deprecated in future releases.\n",
      "  Selec_bis[\"But_pris\"], Selec_bis[\"But_marque\"] = Selec_bis[\"score\"].str.split(\"-\", 1).str\n",
      "C:\\Users\\pycar\\Documents\\Master\\M2\\Semestre 1\\Machine Learning\\competition.py:35: SettingWithCopyWarning: \n",
      "A value is trying to be set on a copy of a slice from a DataFrame.\n",
      "Try using .loc[row_indexer,col_indexer] = value instead\n",
      "\n",
      "See the caveats in the documentation: https://pandas.pydata.org/pandas-docs/stable/user_guide/indexing.html#returning-a-view-versus-a-copy\n",
      "  Selec_bis[\"But_pris\"], Selec_bis[\"But_marque\"] = Selec_bis[\"score\"].str.split(\"-\", 1).str\n"
     ]
    },
    {
     "data": {
      "text/plain": [
       "['Danemark',\n",
       " 'Portugal',\n",
       " 'Espagne',\n",
       " 'Mexique',\n",
       " 'Allemagne',\n",
       " 'Russie',\n",
       " 'Bresil',\n",
       " 'Belgique']"
      ]
     },
     "execution_count": 18,
     "metadata": {},
     "output_type": "execute_result"
    }
   ],
   "source": [
    "Match_huit=Tournement.Match_huit(Huitieme,data)\n",
    "Tournement.Gagnant_Huitieme(Match_huit)"
   ]
  },
  {
   "cell_type": "markdown",
   "metadata": {},
   "source": [
    "# Quart"
   ]
  },
  {
   "cell_type": "code",
   "execution_count": 19,
   "metadata": {},
   "outputs": [],
   "source": [
    "Quart=Tournement.Gagnant_Huitieme(Match_huit)"
   ]
  },
  {
   "cell_type": "code",
   "execution_count": 20,
   "metadata": {},
   "outputs": [
    {
     "data": {
      "text/html": [
       "<div>\n",
       "<style scoped>\n",
       "    .dataframe tbody tr th:only-of-type {\n",
       "        vertical-align: middle;\n",
       "    }\n",
       "\n",
       "    .dataframe tbody tr th {\n",
       "        vertical-align: top;\n",
       "    }\n",
       "\n",
       "    .dataframe thead th {\n",
       "        text-align: right;\n",
       "    }\n",
       "</style>\n",
       "<table border=\"1\" class=\"dataframe\">\n",
       "  <thead>\n",
       "    <tr style=\"text-align: right;\">\n",
       "      <th></th>\n",
       "      <th>But</th>\n",
       "      <th>Danemark</th>\n",
       "      <th>Portugal</th>\n",
       "      <th>Espagne</th>\n",
       "      <th>Mexique</th>\n",
       "      <th>Allemagne</th>\n",
       "      <th>Russie</th>\n",
       "      <th>Bresil</th>\n",
       "      <th>Belgique</th>\n",
       "    </tr>\n",
       "  </thead>\n",
       "  <tbody>\n",
       "    <tr>\n",
       "      <th>0</th>\n",
       "      <td>0</td>\n",
       "      <td>0.257</td>\n",
       "      <td>0.222</td>\n",
       "      <td>0.115</td>\n",
       "      <td>0.211</td>\n",
       "      <td>0.127</td>\n",
       "      <td>0.103</td>\n",
       "      <td>0.124</td>\n",
       "      <td>0.270</td>\n",
       "    </tr>\n",
       "    <tr>\n",
       "      <th>1</th>\n",
       "      <td>1</td>\n",
       "      <td>0.607</td>\n",
       "      <td>0.556</td>\n",
       "      <td>0.364</td>\n",
       "      <td>0.539</td>\n",
       "      <td>0.388</td>\n",
       "      <td>0.336</td>\n",
       "      <td>0.384</td>\n",
       "      <td>0.624</td>\n",
       "    </tr>\n",
       "    <tr>\n",
       "      <th>2</th>\n",
       "      <td>2</td>\n",
       "      <td>0.844</td>\n",
       "      <td>0.808</td>\n",
       "      <td>0.633</td>\n",
       "      <td>0.795</td>\n",
       "      <td>0.659</td>\n",
       "      <td>0.602</td>\n",
       "      <td>0.654</td>\n",
       "      <td>0.855</td>\n",
       "    </tr>\n",
       "    <tr>\n",
       "      <th>3</th>\n",
       "      <td>3</td>\n",
       "      <td>0.951</td>\n",
       "      <td>0.934</td>\n",
       "      <td>0.827</td>\n",
       "      <td>0.927</td>\n",
       "      <td>0.845</td>\n",
       "      <td>0.804</td>\n",
       "      <td>0.842</td>\n",
       "      <td>0.956</td>\n",
       "    </tr>\n",
       "    <tr>\n",
       "      <th>4</th>\n",
       "      <td>4</td>\n",
       "      <td>0.987</td>\n",
       "      <td>0.981</td>\n",
       "      <td>0.932</td>\n",
       "      <td>0.979</td>\n",
       "      <td>0.941</td>\n",
       "      <td>0.919</td>\n",
       "      <td>0.939</td>\n",
       "      <td>0.989</td>\n",
       "    </tr>\n",
       "    <tr>\n",
       "      <th>5</th>\n",
       "      <td>5</td>\n",
       "      <td>0.997</td>\n",
       "      <td>0.995</td>\n",
       "      <td>0.977</td>\n",
       "      <td>0.995</td>\n",
       "      <td>0.981</td>\n",
       "      <td>0.971</td>\n",
       "      <td>0.980</td>\n",
       "      <td>0.998</td>\n",
       "    </tr>\n",
       "  </tbody>\n",
       "</table>\n",
       "</div>"
      ],
      "text/plain": [
       "   But  Danemark  Portugal  Espagne  Mexique  Allemagne  Russie  Bresil  \\\n",
       "0    0     0.257     0.222    0.115    0.211      0.127   0.103   0.124   \n",
       "1    1     0.607     0.556    0.364    0.539      0.388   0.336   0.384   \n",
       "2    2     0.844     0.808    0.633    0.795      0.659   0.602   0.654   \n",
       "3    3     0.951     0.934    0.827    0.927      0.845   0.804   0.842   \n",
       "4    4     0.987     0.981    0.932    0.979      0.941   0.919   0.939   \n",
       "5    5     0.997     0.995    0.977    0.995      0.981   0.971   0.980   \n",
       "\n",
       "   Belgique  \n",
       "0     0.270  \n",
       "1     0.624  \n",
       "2     0.855  \n",
       "3     0.956  \n",
       "4     0.989  \n",
       "5     0.998  "
      ]
     },
     "execution_count": 20,
     "metadata": {},
     "output_type": "execute_result"
    }
   ],
   "source": [
    "Tournement.Match_quart(Quart,data,Huitieme)"
   ]
  },
  {
   "cell_type": "code",
   "execution_count": 21,
   "metadata": {},
   "outputs": [
    {
     "name": "stderr",
     "output_type": "stream",
     "text": [
      "C:\\Users\\pycar\\Documents\\Master\\M2\\Semestre 1\\Machine Learning\\competition.py:33: FutureWarning: Columnar iteration over characters will be deprecated in future releases.\n",
      "  Selec[\"But_marque\"], Selec[\"But_pris\"] = Selec[\"score\"].str.split(\"-\", 1).str\n",
      "C:\\Users\\pycar\\Documents\\Master\\M2\\Semestre 1\\Machine Learning\\competition.py:33: SettingWithCopyWarning: \n",
      "A value is trying to be set on a copy of a slice from a DataFrame.\n",
      "Try using .loc[row_indexer,col_indexer] = value instead\n",
      "\n",
      "See the caveats in the documentation: https://pandas.pydata.org/pandas-docs/stable/user_guide/indexing.html#returning-a-view-versus-a-copy\n",
      "  Selec[\"But_marque\"], Selec[\"But_pris\"] = Selec[\"score\"].str.split(\"-\", 1).str\n",
      "C:\\Users\\pycar\\Documents\\Master\\M2\\Semestre 1\\Machine Learning\\competition.py:35: FutureWarning: Columnar iteration over characters will be deprecated in future releases.\n",
      "  Selec_bis[\"But_pris\"], Selec_bis[\"But_marque\"] = Selec_bis[\"score\"].str.split(\"-\", 1).str\n",
      "C:\\Users\\pycar\\Documents\\Master\\M2\\Semestre 1\\Machine Learning\\competition.py:35: SettingWithCopyWarning: \n",
      "A value is trying to be set on a copy of a slice from a DataFrame.\n",
      "Try using .loc[row_indexer,col_indexer] = value instead\n",
      "\n",
      "See the caveats in the documentation: https://pandas.pydata.org/pandas-docs/stable/user_guide/indexing.html#returning-a-view-versus-a-copy\n",
      "  Selec_bis[\"But_pris\"], Selec_bis[\"But_marque\"] = Selec_bis[\"score\"].str.split(\"-\", 1).str\n"
     ]
    }
   ],
   "source": [
    "Match_Quart = Tournement.Match_quart(Quart,data,Huitieme)"
   ]
  },
  {
   "cell_type": "code",
   "execution_count": 22,
   "metadata": {},
   "outputs": [
    {
     "data": {
      "text/plain": [
       "['Portugal', 'Espagne', 'Russie', 'Bresil']"
      ]
     },
     "execution_count": 22,
     "metadata": {},
     "output_type": "execute_result"
    }
   ],
   "source": [
    "Tournement.Gagnant_Quart(Match_Quart)"
   ]
  },
  {
   "cell_type": "markdown",
   "metadata": {
    "tags": []
   },
   "source": [
    "# Demi"
   ]
  },
  {
   "cell_type": "code",
   "execution_count": 23,
   "metadata": {},
   "outputs": [],
   "source": [
    "Demi = Tournement.Gagnant_Quart(Match_Quart)"
   ]
  },
  {
   "cell_type": "code",
   "execution_count": 24,
   "metadata": {},
   "outputs": [
    {
     "data": {
      "text/html": [
       "<div>\n",
       "<style scoped>\n",
       "    .dataframe tbody tr th:only-of-type {\n",
       "        vertical-align: middle;\n",
       "    }\n",
       "\n",
       "    .dataframe tbody tr th {\n",
       "        vertical-align: top;\n",
       "    }\n",
       "\n",
       "    .dataframe thead th {\n",
       "        text-align: right;\n",
       "    }\n",
       "</style>\n",
       "<table border=\"1\" class=\"dataframe\">\n",
       "  <thead>\n",
       "    <tr style=\"text-align: right;\">\n",
       "      <th></th>\n",
       "      <th>But</th>\n",
       "      <th>Portugal</th>\n",
       "      <th>Espagne</th>\n",
       "      <th>Russie</th>\n",
       "      <th>Bresil</th>\n",
       "    </tr>\n",
       "  </thead>\n",
       "  <tbody>\n",
       "    <tr>\n",
       "      <th>0</th>\n",
       "      <td>0</td>\n",
       "      <td>0.211</td>\n",
       "      <td>0.279</td>\n",
       "      <td>0.183</td>\n",
       "      <td>0.142</td>\n",
       "    </tr>\n",
       "    <tr>\n",
       "      <th>1</th>\n",
       "      <td>1</td>\n",
       "      <td>0.540</td>\n",
       "      <td>0.636</td>\n",
       "      <td>0.493</td>\n",
       "      <td>0.419</td>\n",
       "    </tr>\n",
       "    <tr>\n",
       "      <th>2</th>\n",
       "      <td>2</td>\n",
       "      <td>0.795</td>\n",
       "      <td>0.863</td>\n",
       "      <td>0.757</td>\n",
       "      <td>0.689</td>\n",
       "    </tr>\n",
       "    <tr>\n",
       "      <th>3</th>\n",
       "      <td>3</td>\n",
       "      <td>0.927</td>\n",
       "      <td>0.959</td>\n",
       "      <td>0.907</td>\n",
       "      <td>0.865</td>\n",
       "    </tr>\n",
       "    <tr>\n",
       "      <th>4</th>\n",
       "      <td>4</td>\n",
       "      <td>0.979</td>\n",
       "      <td>0.990</td>\n",
       "      <td>0.970</td>\n",
       "      <td>0.951</td>\n",
       "    </tr>\n",
       "    <tr>\n",
       "      <th>5</th>\n",
       "      <td>5</td>\n",
       "      <td>0.995</td>\n",
       "      <td>0.998</td>\n",
       "      <td>0.992</td>\n",
       "      <td>0.985</td>\n",
       "    </tr>\n",
       "  </tbody>\n",
       "</table>\n",
       "</div>"
      ],
      "text/plain": [
       "   But  Portugal  Espagne  Russie  Bresil\n",
       "0    0     0.211    0.279   0.183   0.142\n",
       "1    1     0.540    0.636   0.493   0.419\n",
       "2    2     0.795    0.863   0.757   0.689\n",
       "3    3     0.927    0.959   0.907   0.865\n",
       "4    4     0.979    0.990   0.970   0.951\n",
       "5    5     0.995    0.998   0.992   0.985"
      ]
     },
     "execution_count": 24,
     "metadata": {},
     "output_type": "execute_result"
    }
   ],
   "source": [
    "Tournement.Match_demi(Demi,data,Huitieme)"
   ]
  },
  {
   "cell_type": "code",
   "execution_count": 25,
   "metadata": {},
   "outputs": [
    {
     "name": "stderr",
     "output_type": "stream",
     "text": [
      "C:\\Users\\pycar\\Documents\\Master\\M2\\Semestre 1\\Machine Learning\\competition.py:33: FutureWarning: Columnar iteration over characters will be deprecated in future releases.\n",
      "  Selec[\"But_marque\"], Selec[\"But_pris\"] = Selec[\"score\"].str.split(\"-\", 1).str\n",
      "C:\\Users\\pycar\\Documents\\Master\\M2\\Semestre 1\\Machine Learning\\competition.py:33: SettingWithCopyWarning: \n",
      "A value is trying to be set on a copy of a slice from a DataFrame.\n",
      "Try using .loc[row_indexer,col_indexer] = value instead\n",
      "\n",
      "See the caveats in the documentation: https://pandas.pydata.org/pandas-docs/stable/user_guide/indexing.html#returning-a-view-versus-a-copy\n",
      "  Selec[\"But_marque\"], Selec[\"But_pris\"] = Selec[\"score\"].str.split(\"-\", 1).str\n",
      "C:\\Users\\pycar\\Documents\\Master\\M2\\Semestre 1\\Machine Learning\\competition.py:35: FutureWarning: Columnar iteration over characters will be deprecated in future releases.\n",
      "  Selec_bis[\"But_pris\"], Selec_bis[\"But_marque\"] = Selec_bis[\"score\"].str.split(\"-\", 1).str\n",
      "C:\\Users\\pycar\\Documents\\Master\\M2\\Semestre 1\\Machine Learning\\competition.py:35: SettingWithCopyWarning: \n",
      "A value is trying to be set on a copy of a slice from a DataFrame.\n",
      "Try using .loc[row_indexer,col_indexer] = value instead\n",
      "\n",
      "See the caveats in the documentation: https://pandas.pydata.org/pandas-docs/stable/user_guide/indexing.html#returning-a-view-versus-a-copy\n",
      "  Selec_bis[\"But_pris\"], Selec_bis[\"But_marque\"] = Selec_bis[\"score\"].str.split(\"-\", 1).str\n"
     ]
    }
   ],
   "source": [
    "Match_Demi = Tournement.Match_demi(Demi,data,Huitieme)"
   ]
  },
  {
   "cell_type": "code",
   "execution_count": 26,
   "metadata": {},
   "outputs": [
    {
     "data": {
      "text/plain": [
       "['Portugal', 'Bresil']"
      ]
     },
     "execution_count": 26,
     "metadata": {},
     "output_type": "execute_result"
    }
   ],
   "source": [
    "Tournement.Gagnant_Demi(Match_Demi)"
   ]
  },
  {
   "cell_type": "markdown",
   "metadata": {},
   "source": [
    "# Finale"
   ]
  },
  {
   "cell_type": "code",
   "execution_count": 27,
   "metadata": {},
   "outputs": [],
   "source": [
    "Finalistes = Tournement.Gagnant_Demi(Match_Demi)"
   ]
  },
  {
   "cell_type": "code",
   "execution_count": 28,
   "metadata": {},
   "outputs": [
    {
     "data": {
      "text/html": [
       "<div>\n",
       "<style scoped>\n",
       "    .dataframe tbody tr th:only-of-type {\n",
       "        vertical-align: middle;\n",
       "    }\n",
       "\n",
       "    .dataframe tbody tr th {\n",
       "        vertical-align: top;\n",
       "    }\n",
       "\n",
       "    .dataframe thead th {\n",
       "        text-align: right;\n",
       "    }\n",
       "</style>\n",
       "<table border=\"1\" class=\"dataframe\">\n",
       "  <thead>\n",
       "    <tr style=\"text-align: right;\">\n",
       "      <th></th>\n",
       "      <th>But</th>\n",
       "      <th>Portugal</th>\n",
       "      <th>Bresil</th>\n",
       "    </tr>\n",
       "  </thead>\n",
       "  <tbody>\n",
       "    <tr>\n",
       "      <th>0</th>\n",
       "      <td>0</td>\n",
       "      <td>0.256</td>\n",
       "      <td>0.241</td>\n",
       "    </tr>\n",
       "    <tr>\n",
       "      <th>1</th>\n",
       "      <td>1</td>\n",
       "      <td>0.605</td>\n",
       "      <td>0.584</td>\n",
       "    </tr>\n",
       "    <tr>\n",
       "      <th>2</th>\n",
       "      <td>2</td>\n",
       "      <td>0.842</td>\n",
       "      <td>0.828</td>\n",
       "    </tr>\n",
       "    <tr>\n",
       "      <th>3</th>\n",
       "      <td>3</td>\n",
       "      <td>0.950</td>\n",
       "      <td>0.944</td>\n",
       "    </tr>\n",
       "    <tr>\n",
       "      <th>4</th>\n",
       "      <td>4</td>\n",
       "      <td>0.987</td>\n",
       "      <td>0.985</td>\n",
       "    </tr>\n",
       "    <tr>\n",
       "      <th>5</th>\n",
       "      <td>5</td>\n",
       "      <td>0.997</td>\n",
       "      <td>0.997</td>\n",
       "    </tr>\n",
       "  </tbody>\n",
       "</table>\n",
       "</div>"
      ],
      "text/plain": [
       "   But  Portugal  Bresil\n",
       "0    0     0.256   0.241\n",
       "1    1     0.605   0.584\n",
       "2    2     0.842   0.828\n",
       "3    3     0.950   0.944\n",
       "4    4     0.987   0.985\n",
       "5    5     0.997   0.997"
      ]
     },
     "execution_count": 28,
     "metadata": {},
     "output_type": "execute_result"
    }
   ],
   "source": [
    "Tournement.Match_final(Finalistes,data,Huitieme)"
   ]
  },
  {
   "cell_type": "code",
   "execution_count": 29,
   "metadata": {},
   "outputs": [
    {
     "name": "stderr",
     "output_type": "stream",
     "text": [
      "C:\\Users\\pycar\\Documents\\Master\\M2\\Semestre 1\\Machine Learning\\competition.py:33: FutureWarning: Columnar iteration over characters will be deprecated in future releases.\n",
      "  Selec[\"But_marque\"], Selec[\"But_pris\"] = Selec[\"score\"].str.split(\"-\", 1).str\n",
      "C:\\Users\\pycar\\Documents\\Master\\M2\\Semestre 1\\Machine Learning\\competition.py:33: SettingWithCopyWarning: \n",
      "A value is trying to be set on a copy of a slice from a DataFrame.\n",
      "Try using .loc[row_indexer,col_indexer] = value instead\n",
      "\n",
      "See the caveats in the documentation: https://pandas.pydata.org/pandas-docs/stable/user_guide/indexing.html#returning-a-view-versus-a-copy\n",
      "  Selec[\"But_marque\"], Selec[\"But_pris\"] = Selec[\"score\"].str.split(\"-\", 1).str\n",
      "C:\\Users\\pycar\\Documents\\Master\\M2\\Semestre 1\\Machine Learning\\competition.py:35: FutureWarning: Columnar iteration over characters will be deprecated in future releases.\n",
      "  Selec_bis[\"But_pris\"], Selec_bis[\"But_marque\"] = Selec_bis[\"score\"].str.split(\"-\", 1).str\n",
      "C:\\Users\\pycar\\Documents\\Master\\M2\\Semestre 1\\Machine Learning\\competition.py:35: SettingWithCopyWarning: \n",
      "A value is trying to be set on a copy of a slice from a DataFrame.\n",
      "Try using .loc[row_indexer,col_indexer] = value instead\n",
      "\n",
      "See the caveats in the documentation: https://pandas.pydata.org/pandas-docs/stable/user_guide/indexing.html#returning-a-view-versus-a-copy\n",
      "  Selec_bis[\"But_pris\"], Selec_bis[\"But_marque\"] = Selec_bis[\"score\"].str.split(\"-\", 1).str\n"
     ]
    }
   ],
   "source": [
    "Match_Finalistes = Tournement.Match_final(Finalistes,data,Huitieme)"
   ]
  },
  {
   "cell_type": "code",
   "execution_count": 30,
   "metadata": {},
   "outputs": [
    {
     "data": {
      "text/plain": [
       "'La phase finale se déroule entre : Bresil et Portugal, le gagnant est Bresil.'"
      ]
     },
     "execution_count": 30,
     "metadata": {},
     "output_type": "execute_result"
    }
   ],
   "source": [
    "Tournement.Gagnant_CoupeDuMonde_2022(Match_Finalistes)"
   ]
  },
  {
   "cell_type": "markdown",
   "metadata": {},
   "source": [
    "# Troisieme"
   ]
  },
  {
   "cell_type": "code",
   "execution_count": 31,
   "metadata": {},
   "outputs": [
    {
     "data": {
      "text/plain": [
       "'La troisième place se joue entre Espagne et Russie le troisième est donc : Russie.'"
      ]
     },
     "execution_count": 31,
     "metadata": {},
     "output_type": "execute_result"
    }
   ],
   "source": [
    "Tournement.Gagnant_troisieme(Demi,Finalistes,Huitieme,data)"
   ]
  },
  {
   "cell_type": "markdown",
   "metadata": {},
   "source": [
    "# Machine Learning sur l'affluence des supporters"
   ]
  },
  {
   "cell_type": "markdown",
   "metadata": {},
   "source": [
    "Maintenant que nous avons une approximation des futurs équipes qui vont s'affronter nous pouvons pratiquer des modèles de machine learning pour prédire au mieux les supporters des futurs matchs, bien que le tirage au sort va différer les équipes, la méthode sera la même."
   ]
  },
  {
   "cell_type": "markdown",
   "metadata": {},
   "source": [
    "La variable cible est : l'affluence de supporter\n",
    "\n",
    "Ceci peut s'expliquer par :\n",
    "\n",
    "- L'équipe qui joue.\n",
    "- L'année de la coupe du monde.\n",
    "- La situation"
   ]
  },
  {
   "cell_type": "markdown",
   "metadata": {},
   "source": [
    "Avant ça on regarde l'affluence par année et lieu pour se faire une idée."
   ]
  },
  {
   "cell_type": "code",
   "execution_count": 32,
   "metadata": {},
   "outputs": [
    {
     "data": {
      "text/plain": [
       "<function matplotlib.pyplot.show(close=None, block=None)>"
      ]
     },
     "execution_count": 32,
     "metadata": {},
     "output_type": "execute_result"
    },
    {
     "data": {
      "image/png": "[encoded data removed]",
      "text/plain": [
       "<Figure size 432x288 with 1 Axes>"
      ]
     },
     "metadata": {
      "needs_background": "light"
     },
     "output_type": "display_data"
    }
   ],
   "source": [
    "data.groupby(\"Annee\")[\"affluence\"].mean().plot()\n",
    "plt.xticks(rotation=90)\n",
    "plt.show"
   ]
  },
  {
   "cell_type": "code",
   "execution_count": 33,
   "metadata": {},
   "outputs": [
    {
     "data": {
      "text/plain": [
       "<function matplotlib.pyplot.show(close=None, block=None)>"
      ]
     },
     "execution_count": 33,
     "metadata": {},
     "output_type": "execute_result"
    },
    {
     "data": {
      "image/png": "[encoded data removed]",
      "text/plain": [
       "<Figure size 432x288 with 1 Axes>"
      ]
     },
     "metadata": {
      "needs_background": "light"
     },
     "output_type": "display_data"
    }
   ],
   "source": [
    "data.groupby(\"lieu\")[\"affluence\"].mean().plot()\n",
    "plt.xticks(rotation=90)\n",
    "plt.show"
   ]
  },
  {
   "cell_type": "markdown",
   "metadata": {},
   "source": [
    "Avant de se lançer dans le machine learning, on recode les variables."
   ]
  },
  {
   "cell_type": "code",
   "execution_count": 34,
   "metadata": {},
   "outputs": [
    {
     "name": "stderr",
     "output_type": "stream",
     "text": [
      "C:\\Users\\pycar\\Documents\\Master\\M2\\Semestre 1\\Machine Learning\\competition.py:33: FutureWarning: Columnar iteration over characters will be deprecated in future releases.\n",
      "  Selec[\"But_marque\"], Selec[\"But_pris\"] = Selec[\"score\"].str.split(\"-\", 1).str\n",
      "C:\\Users\\pycar\\Documents\\Master\\M2\\Semestre 1\\Machine Learning\\competition.py:33: SettingWithCopyWarning: \n",
      "A value is trying to be set on a copy of a slice from a DataFrame.\n",
      "Try using .loc[row_indexer,col_indexer] = value instead\n",
      "\n",
      "See the caveats in the documentation: https://pandas.pydata.org/pandas-docs/stable/user_guide/indexing.html#returning-a-view-versus-a-copy\n",
      "  Selec[\"But_marque\"], Selec[\"But_pris\"] = Selec[\"score\"].str.split(\"-\", 1).str\n",
      "C:\\Users\\pycar\\Documents\\Master\\M2\\Semestre 1\\Machine Learning\\competition.py:35: FutureWarning: Columnar iteration over characters will be deprecated in future releases.\n",
      "  Selec_bis[\"But_pris\"], Selec_bis[\"But_marque\"] = Selec_bis[\"score\"].str.split(\"-\", 1).str\n",
      "C:\\Users\\pycar\\Documents\\Master\\M2\\Semestre 1\\Machine Learning\\competition.py:35: SettingWithCopyWarning: \n",
      "A value is trying to be set on a copy of a slice from a DataFrame.\n",
      "Try using .loc[row_indexer,col_indexer] = value instead\n",
      "\n",
      "See the caveats in the documentation: https://pandas.pydata.org/pandas-docs/stable/user_guide/indexing.html#returning-a-view-versus-a-copy\n",
      "  Selec_bis[\"But_pris\"], Selec_bis[\"But_marque\"] = Selec_bis[\"score\"].str.split(\"-\", 1).str\n"
     ]
    },
    {
     "data": {
      "text/html": [
       "<div>\n",
       "<style scoped>\n",
       "    .dataframe tbody tr th:only-of-type {\n",
       "        vertical-align: middle;\n",
       "    }\n",
       "\n",
       "    .dataframe tbody tr th {\n",
       "        vertical-align: top;\n",
       "    }\n",
       "\n",
       "    .dataframe thead th {\n",
       "        text-align: right;\n",
       "    }\n",
       "</style>\n",
       "<table border=\"1\" class=\"dataframe\">\n",
       "  <thead>\n",
       "    <tr style=\"text-align: right;\">\n",
       "      <th></th>\n",
       "      <th>affluence</th>\n",
       "      <th>Team1_Afrique du Sud</th>\n",
       "      <th>Team1_Algerie</th>\n",
       "      <th>Team1_Allemagne</th>\n",
       "      <th>Team1_Angleterre</th>\n",
       "      <th>Team1_Angola</th>\n",
       "      <th>Team1_Arabie Saoudite</th>\n",
       "      <th>Team1_Argentine</th>\n",
       "      <th>Team1_Australie</th>\n",
       "      <th>Team1_Autriche</th>\n",
       "      <th>...</th>\n",
       "      <th>Year_2006</th>\n",
       "      <th>Year_2010</th>\n",
       "      <th>Year_2014</th>\n",
       "      <th>Year_2018</th>\n",
       "      <th>Pos_1/2F</th>\n",
       "      <th>Pos_1/4F</th>\n",
       "      <th>Pos_1/8F</th>\n",
       "      <th>Pos_Finale</th>\n",
       "      <th>Pos_Poule</th>\n",
       "      <th>Pos_Troisieme</th>\n",
       "    </tr>\n",
       "  </thead>\n",
       "  <tbody>\n",
       "    <tr>\n",
       "      <th>0</th>\n",
       "      <td>53700</td>\n",
       "      <td>0</td>\n",
       "      <td>0</td>\n",
       "      <td>0</td>\n",
       "      <td>0</td>\n",
       "      <td>0</td>\n",
       "      <td>0</td>\n",
       "      <td>0</td>\n",
       "      <td>0</td>\n",
       "      <td>0</td>\n",
       "      <td>...</td>\n",
       "      <td>0</td>\n",
       "      <td>0</td>\n",
       "      <td>0</td>\n",
       "      <td>0</td>\n",
       "      <td>0</td>\n",
       "      <td>0</td>\n",
       "      <td>0</td>\n",
       "      <td>0</td>\n",
       "      <td>1</td>\n",
       "      <td>0</td>\n",
       "    </tr>\n",
       "    <tr>\n",
       "      <th>1</th>\n",
       "      <td>52100</td>\n",
       "      <td>0</td>\n",
       "      <td>0</td>\n",
       "      <td>0</td>\n",
       "      <td>0</td>\n",
       "      <td>0</td>\n",
       "      <td>0</td>\n",
       "      <td>0</td>\n",
       "      <td>0</td>\n",
       "      <td>0</td>\n",
       "      <td>...</td>\n",
       "      <td>0</td>\n",
       "      <td>0</td>\n",
       "      <td>0</td>\n",
       "      <td>0</td>\n",
       "      <td>0</td>\n",
       "      <td>0</td>\n",
       "      <td>0</td>\n",
       "      <td>0</td>\n",
       "      <td>1</td>\n",
       "      <td>0</td>\n",
       "    </tr>\n",
       "    <tr>\n",
       "      <th>2</th>\n",
       "      <td>53700</td>\n",
       "      <td>0</td>\n",
       "      <td>0</td>\n",
       "      <td>0</td>\n",
       "      <td>0</td>\n",
       "      <td>0</td>\n",
       "      <td>0</td>\n",
       "      <td>0</td>\n",
       "      <td>0</td>\n",
       "      <td>0</td>\n",
       "      <td>...</td>\n",
       "      <td>0</td>\n",
       "      <td>0</td>\n",
       "      <td>0</td>\n",
       "      <td>0</td>\n",
       "      <td>0</td>\n",
       "      <td>0</td>\n",
       "      <td>0</td>\n",
       "      <td>0</td>\n",
       "      <td>1</td>\n",
       "      <td>0</td>\n",
       "    </tr>\n",
       "    <tr>\n",
       "      <th>3</th>\n",
       "      <td>52500</td>\n",
       "      <td>0</td>\n",
       "      <td>0</td>\n",
       "      <td>0</td>\n",
       "      <td>0</td>\n",
       "      <td>0</td>\n",
       "      <td>0</td>\n",
       "      <td>0</td>\n",
       "      <td>0</td>\n",
       "      <td>0</td>\n",
       "      <td>...</td>\n",
       "      <td>0</td>\n",
       "      <td>0</td>\n",
       "      <td>0</td>\n",
       "      <td>0</td>\n",
       "      <td>0</td>\n",
       "      <td>0</td>\n",
       "      <td>1</td>\n",
       "      <td>0</td>\n",
       "      <td>0</td>\n",
       "      <td>0</td>\n",
       "    </tr>\n",
       "    <tr>\n",
       "      <th>4</th>\n",
       "      <td>67148</td>\n",
       "      <td>0</td>\n",
       "      <td>0</td>\n",
       "      <td>0</td>\n",
       "      <td>0</td>\n",
       "      <td>0</td>\n",
       "      <td>0</td>\n",
       "      <td>0</td>\n",
       "      <td>0</td>\n",
       "      <td>0</td>\n",
       "      <td>...</td>\n",
       "      <td>0</td>\n",
       "      <td>0</td>\n",
       "      <td>0</td>\n",
       "      <td>0</td>\n",
       "      <td>0</td>\n",
       "      <td>0</td>\n",
       "      <td>1</td>\n",
       "      <td>0</td>\n",
       "      <td>0</td>\n",
       "      <td>0</td>\n",
       "    </tr>\n",
       "    <tr>\n",
       "      <th>...</th>\n",
       "      <td>...</td>\n",
       "      <td>...</td>\n",
       "      <td>...</td>\n",
       "      <td>...</td>\n",
       "      <td>...</td>\n",
       "      <td>...</td>\n",
       "      <td>...</td>\n",
       "      <td>...</td>\n",
       "      <td>...</td>\n",
       "      <td>...</td>\n",
       "      <td>...</td>\n",
       "      <td>...</td>\n",
       "      <td>...</td>\n",
       "      <td>...</td>\n",
       "      <td>...</td>\n",
       "      <td>...</td>\n",
       "      <td>...</td>\n",
       "      <td>...</td>\n",
       "      <td>...</td>\n",
       "      <td>...</td>\n",
       "      <td>...</td>\n",
       "    </tr>\n",
       "    <tr>\n",
       "      <th>665</th>\n",
       "      <td>27967</td>\n",
       "      <td>0</td>\n",
       "      <td>0</td>\n",
       "      <td>0</td>\n",
       "      <td>0</td>\n",
       "      <td>0</td>\n",
       "      <td>0</td>\n",
       "      <td>0</td>\n",
       "      <td>0</td>\n",
       "      <td>0</td>\n",
       "      <td>...</td>\n",
       "      <td>0</td>\n",
       "      <td>1</td>\n",
       "      <td>0</td>\n",
       "      <td>0</td>\n",
       "      <td>0</td>\n",
       "      <td>0</td>\n",
       "      <td>0</td>\n",
       "      <td>0</td>\n",
       "      <td>1</td>\n",
       "      <td>0</td>\n",
       "    </tr>\n",
       "    <tr>\n",
       "      <th>666</th>\n",
       "      <td>62010</td>\n",
       "      <td>0</td>\n",
       "      <td>0</td>\n",
       "      <td>0</td>\n",
       "      <td>0</td>\n",
       "      <td>0</td>\n",
       "      <td>0</td>\n",
       "      <td>0</td>\n",
       "      <td>0</td>\n",
       "      <td>0</td>\n",
       "      <td>...</td>\n",
       "      <td>0</td>\n",
       "      <td>1</td>\n",
       "      <td>0</td>\n",
       "      <td>0</td>\n",
       "      <td>0</td>\n",
       "      <td>0</td>\n",
       "      <td>0</td>\n",
       "      <td>0</td>\n",
       "      <td>1</td>\n",
       "      <td>0</td>\n",
       "    </tr>\n",
       "    <tr>\n",
       "      <th>667</th>\n",
       "      <td>36742</td>\n",
       "      <td>0</td>\n",
       "      <td>0</td>\n",
       "      <td>0</td>\n",
       "      <td>0</td>\n",
       "      <td>0</td>\n",
       "      <td>0</td>\n",
       "      <td>0</td>\n",
       "      <td>0</td>\n",
       "      <td>0</td>\n",
       "      <td>...</td>\n",
       "      <td>0</td>\n",
       "      <td>1</td>\n",
       "      <td>0</td>\n",
       "      <td>0</td>\n",
       "      <td>0</td>\n",
       "      <td>0</td>\n",
       "      <td>1</td>\n",
       "      <td>0</td>\n",
       "      <td>0</td>\n",
       "      <td>0</td>\n",
       "    </tr>\n",
       "    <tr>\n",
       "      <th>668</th>\n",
       "      <td>40267</td>\n",
       "      <td>0</td>\n",
       "      <td>0</td>\n",
       "      <td>0</td>\n",
       "      <td>0</td>\n",
       "      <td>0</td>\n",
       "      <td>0</td>\n",
       "      <td>0</td>\n",
       "      <td>0</td>\n",
       "      <td>0</td>\n",
       "      <td>...</td>\n",
       "      <td>0</td>\n",
       "      <td>0</td>\n",
       "      <td>1</td>\n",
       "      <td>0</td>\n",
       "      <td>0</td>\n",
       "      <td>0</td>\n",
       "      <td>0</td>\n",
       "      <td>0</td>\n",
       "      <td>1</td>\n",
       "      <td>0</td>\n",
       "    </tr>\n",
       "    <tr>\n",
       "      <th>669</th>\n",
       "      <td>40842</td>\n",
       "      <td>0</td>\n",
       "      <td>0</td>\n",
       "      <td>0</td>\n",
       "      <td>0</td>\n",
       "      <td>0</td>\n",
       "      <td>0</td>\n",
       "      <td>0</td>\n",
       "      <td>0</td>\n",
       "      <td>0</td>\n",
       "      <td>...</td>\n",
       "      <td>0</td>\n",
       "      <td>0</td>\n",
       "      <td>0</td>\n",
       "      <td>1</td>\n",
       "      <td>0</td>\n",
       "      <td>0</td>\n",
       "      <td>0</td>\n",
       "      <td>0</td>\n",
       "      <td>1</td>\n",
       "      <td>0</td>\n",
       "    </tr>\n",
       "  </tbody>\n",
       "</table>\n",
       "<p>670 rows × 158 columns</p>\n",
       "</div>"
      ],
      "text/plain": [
       "     affluence  Team1_Afrique du Sud  Team1_Algerie  Team1_Allemagne  \\\n",
       "0        53700                     0              0                0   \n",
       "1        52100                     0              0                0   \n",
       "2        53700                     0              0                0   \n",
       "3        52500                     0              0                0   \n",
       "4        67148                     0              0                0   \n",
       "..         ...                   ...            ...              ...   \n",
       "665      27967                     0              0                0   \n",
       "666      62010                     0              0                0   \n",
       "667      36742                     0              0                0   \n",
       "668      40267                     0              0                0   \n",
       "669      40842                     0              0                0   \n",
       "\n",
       "     Team1_Angleterre  Team1_Angola  Team1_Arabie Saoudite  Team1_Argentine  \\\n",
       "0                   0             0                      0                0   \n",
       "1                   0             0                      0                0   \n",
       "2                   0             0                      0                0   \n",
       "3                   0             0                      0                0   \n",
       "4                   0             0                      0                0   \n",
       "..                ...           ...                    ...              ...   \n",
       "665                 0             0                      0                0   \n",
       "666                 0             0                      0                0   \n",
       "667                 0             0                      0                0   \n",
       "668                 0             0                      0                0   \n",
       "669                 0             0                      0                0   \n",
       "\n",
       "     Team1_Australie  Team1_Autriche  ...  Year_2006  Year_2010  Year_2014  \\\n",
       "0                  0               0  ...          0          0          0   \n",
       "1                  0               0  ...          0          0          0   \n",
       "2                  0               0  ...          0          0          0   \n",
       "3                  0               0  ...          0          0          0   \n",
       "4                  0               0  ...          0          0          0   \n",
       "..               ...             ...  ...        ...        ...        ...   \n",
       "665                0               0  ...          0          1          0   \n",
       "666                0               0  ...          0          1          0   \n",
       "667                0               0  ...          0          1          0   \n",
       "668                0               0  ...          0          0          1   \n",
       "669                0               0  ...          0          0          0   \n",
       "\n",
       "     Year_2018  Pos_1/2F  Pos_1/4F  Pos_1/8F  Pos_Finale  Pos_Poule  \\\n",
       "0            0         0         0         0           0          1   \n",
       "1            0         0         0         0           0          1   \n",
       "2            0         0         0         0           0          1   \n",
       "3            0         0         0         1           0          0   \n",
       "4            0         0         0         1           0          0   \n",
       "..         ...       ...       ...       ...         ...        ...   \n",
       "665          0         0         0         0           0          1   \n",
       "666          0         0         0         0           0          1   \n",
       "667          0         0         0         1           0          0   \n",
       "668          0         0         0         0           0          1   \n",
       "669          1         0         0         0           0          1   \n",
       "\n",
       "     Pos_Troisieme  \n",
       "0                0  \n",
       "1                0  \n",
       "2                0  \n",
       "3                0  \n",
       "4                0  \n",
       "..             ...  \n",
       "665              0  \n",
       "666              0  \n",
       "667              0  \n",
       "668              0  \n",
       "669              0  \n",
       "\n",
       "[670 rows x 158 columns]"
      ]
     },
     "execution_count": 34,
     "metadata": {},
     "output_type": "execute_result"
    }
   ],
   "source": [
    "Fixe.fixe_ratio_dummies(Huitieme, data)"
   ]
  },
  {
   "cell_type": "code",
   "execution_count": 35,
   "metadata": {
    "tags": []
   },
   "outputs": [
    {
     "name": "stderr",
     "output_type": "stream",
     "text": [
      "C:\\Users\\pycar\\Documents\\Master\\M2\\Semestre 1\\Machine Learning\\competition.py:33: FutureWarning: Columnar iteration over characters will be deprecated in future releases.\n",
      "  Selec[\"But_marque\"], Selec[\"But_pris\"] = Selec[\"score\"].str.split(\"-\", 1).str\n",
      "C:\\Users\\pycar\\Documents\\Master\\M2\\Semestre 1\\Machine Learning\\competition.py:33: SettingWithCopyWarning: \n",
      "A value is trying to be set on a copy of a slice from a DataFrame.\n",
      "Try using .loc[row_indexer,col_indexer] = value instead\n",
      "\n",
      "See the caveats in the documentation: https://pandas.pydata.org/pandas-docs/stable/user_guide/indexing.html#returning-a-view-versus-a-copy\n",
      "  Selec[\"But_marque\"], Selec[\"But_pris\"] = Selec[\"score\"].str.split(\"-\", 1).str\n",
      "C:\\Users\\pycar\\Documents\\Master\\M2\\Semestre 1\\Machine Learning\\competition.py:35: FutureWarning: Columnar iteration over characters will be deprecated in future releases.\n",
      "  Selec_bis[\"But_pris\"], Selec_bis[\"But_marque\"] = Selec_bis[\"score\"].str.split(\"-\", 1).str\n",
      "C:\\Users\\pycar\\Documents\\Master\\M2\\Semestre 1\\Machine Learning\\competition.py:35: SettingWithCopyWarning: \n",
      "A value is trying to be set on a copy of a slice from a DataFrame.\n",
      "Try using .loc[row_indexer,col_indexer] = value instead\n",
      "\n",
      "See the caveats in the documentation: https://pandas.pydata.org/pandas-docs/stable/user_guide/indexing.html#returning-a-view-versus-a-copy\n",
      "  Selec_bis[\"But_pris\"], Selec_bis[\"But_marque\"] = Selec_bis[\"score\"].str.split(\"-\", 1).str\n"
     ]
    }
   ],
   "source": [
    "df_final = Fixe.fixe_ratio_dummies(Huitieme, data)"
   ]
  },
  {
   "cell_type": "code",
   "execution_count": 36,
   "metadata": {},
   "outputs": [
    {
     "data": {
      "text/html": [
       "<div>\n",
       "<style scoped>\n",
       "    .dataframe tbody tr th:only-of-type {\n",
       "        vertical-align: middle;\n",
       "    }\n",
       "\n",
       "    .dataframe tbody tr th {\n",
       "        vertical-align: top;\n",
       "    }\n",
       "\n",
       "    .dataframe thead th {\n",
       "        text-align: right;\n",
       "    }\n",
       "</style>\n",
       "<table border=\"1\" class=\"dataframe\">\n",
       "  <thead>\n",
       "    <tr style=\"text-align: right;\">\n",
       "      <th></th>\n",
       "      <th>affluence</th>\n",
       "    </tr>\n",
       "  </thead>\n",
       "  <tbody>\n",
       "    <tr>\n",
       "      <th>Pos_1/2F</th>\n",
       "      <td>0.144363</td>\n",
       "    </tr>\n",
       "    <tr>\n",
       "      <th>Pos_1/4F</th>\n",
       "      <td>0.009996</td>\n",
       "    </tr>\n",
       "    <tr>\n",
       "      <th>Pos_1/8F</th>\n",
       "      <td>0.040920</td>\n",
       "    </tr>\n",
       "    <tr>\n",
       "      <th>Pos_Finale</th>\n",
       "      <td>0.261432</td>\n",
       "    </tr>\n",
       "    <tr>\n",
       "      <th>Pos_Poule</th>\n",
       "      <td>-0.195778</td>\n",
       "    </tr>\n",
       "    <tr>\n",
       "      <th>Pos_Troisieme</th>\n",
       "      <td>-0.005025</td>\n",
       "    </tr>\n",
       "  </tbody>\n",
       "</table>\n",
       "</div>"
      ],
      "text/plain": [
       "               affluence\n",
       "Pos_1/2F        0.144363\n",
       "Pos_1/4F        0.009996\n",
       "Pos_1/8F        0.040920\n",
       "Pos_Finale      0.261432\n",
       "Pos_Poule      -0.195778\n",
       "Pos_Troisieme  -0.005025"
      ]
     },
     "execution_count": 36,
     "metadata": {},
     "output_type": "execute_result"
    }
   ],
   "source": [
    "df_final.corr()[['affluence']].tail(6)"
   ]
  },
  {
   "cell_type": "markdown",
   "metadata": {},
   "source": [
    "Les corrélations intéréssantes sont celles comprenant les situations, on remarque que plus on avance vers la finale plus le lien entre le nombre de supporter et la situation semble augmenter."
   ]
  },
  {
   "cell_type": "code",
   "execution_count": 37,
   "metadata": {},
   "outputs": [],
   "source": [
    "X = df_final.drop(['affluence'], axis=1)\n",
    "y = df_final['affluence']"
   ]
  },
  {
   "cell_type": "code",
   "execution_count": 38,
   "metadata": {},
   "outputs": [],
   "source": [
    "X_train, X_test, y_train, y_test = ml.prepare_donnees(X, y)"
   ]
  },
  {
   "cell_type": "code",
   "execution_count": 39,
   "metadata": {
    "collapsed": true,
    "jupyter": {
     "outputs_hidden": true
    },
    "tags": []
   },
   "outputs": [
    {
     "name": "stderr",
     "output_type": "stream",
     "text": [
      "C:\\Users\\pycar\\anaconda3\\lib\\site-packages\\sklearn\\model_selection\\_validation.py:615: FitFailedWarning: Estimator fit failed. The score on this train-test partition for these parameters will be set to nan. Details: \n",
      "Traceback (most recent call last):\n",
      "  File \"C:\\Users\\pycar\\anaconda3\\lib\\site-packages\\sklearn\\model_selection\\_validation.py\", line 598, in _fit_and_score\n",
      "    estimator.fit(X_train, y_train, **fit_params)\n",
      "  File \"C:\\Users\\pycar\\anaconda3\\lib\\site-packages\\sklearn\\dummy.py\", line 503, in fit\n",
      "    raise ValueError(\"Quantile must be a scalar in the range \"\n",
      "ValueError: Quantile must be a scalar in the range [0.0, 1.0], but got None.\n",
      "\n",
      "  warnings.warn(\"Estimator fit failed. The score on this train-test\"\n",
      "C:\\Users\\pycar\\anaconda3\\lib\\site-packages\\sklearn\\model_selection\\_validation.py:615: FitFailedWarning: Estimator fit failed. The score on this train-test partition for these parameters will be set to nan. Details: \n",
      "Traceback (most recent call last):\n",
      "  File \"C:\\Users\\pycar\\anaconda3\\lib\\site-packages\\sklearn\\model_selection\\_validation.py\", line 598, in _fit_and_score\n",
      "    estimator.fit(X_train, y_train, **fit_params)\n",
      "  File \"C:\\Users\\pycar\\anaconda3\\lib\\site-packages\\sklearn\\dummy.py\", line 503, in fit\n",
      "    raise ValueError(\"Quantile must be a scalar in the range \"\n",
      "ValueError: Quantile must be a scalar in the range [0.0, 1.0], but got None.\n",
      "\n",
      "  warnings.warn(\"Estimator fit failed. The score on this train-test\"\n",
      "C:\\Users\\pycar\\anaconda3\\lib\\site-packages\\sklearn\\model_selection\\_validation.py:615: FitFailedWarning: Estimator fit failed. The score on this train-test partition for these parameters will be set to nan. Details: \n",
      "Traceback (most recent call last):\n",
      "  File \"C:\\Users\\pycar\\anaconda3\\lib\\site-packages\\sklearn\\model_selection\\_validation.py\", line 598, in _fit_and_score\n",
      "    estimator.fit(X_train, y_train, **fit_params)\n",
      "  File \"C:\\Users\\pycar\\anaconda3\\lib\\site-packages\\sklearn\\dummy.py\", line 503, in fit\n",
      "    raise ValueError(\"Quantile must be a scalar in the range \"\n",
      "ValueError: Quantile must be a scalar in the range [0.0, 1.0], but got None.\n",
      "\n",
      "  warnings.warn(\"Estimator fit failed. The score on this train-test\"\n",
      "C:\\Users\\pycar\\anaconda3\\lib\\site-packages\\sklearn\\model_selection\\_validation.py:615: FitFailedWarning: Estimator fit failed. The score on this train-test partition for these parameters will be set to nan. Details: \n",
      "Traceback (most recent call last):\n",
      "  File \"C:\\Users\\pycar\\anaconda3\\lib\\site-packages\\sklearn\\model_selection\\_validation.py\", line 598, in _fit_and_score\n",
      "    estimator.fit(X_train, y_train, **fit_params)\n",
      "  File \"C:\\Users\\pycar\\anaconda3\\lib\\site-packages\\sklearn\\dummy.py\", line 503, in fit\n",
      "    raise ValueError(\"Quantile must be a scalar in the range \"\n",
      "ValueError: Quantile must be a scalar in the range [0.0, 1.0], but got None.\n",
      "\n",
      "  warnings.warn(\"Estimator fit failed. The score on this train-test\"\n",
      "C:\\Users\\pycar\\anaconda3\\lib\\site-packages\\sklearn\\model_selection\\_validation.py:615: FitFailedWarning: Estimator fit failed. The score on this train-test partition for these parameters will be set to nan. Details: \n",
      "Traceback (most recent call last):\n",
      "  File \"C:\\Users\\pycar\\anaconda3\\lib\\site-packages\\sklearn\\model_selection\\_validation.py\", line 598, in _fit_and_score\n",
      "    estimator.fit(X_train, y_train, **fit_params)\n",
      "  File \"C:\\Users\\pycar\\anaconda3\\lib\\site-packages\\sklearn\\dummy.py\", line 503, in fit\n",
      "    raise ValueError(\"Quantile must be a scalar in the range \"\n",
      "ValueError: Quantile must be a scalar in the range [0.0, 1.0], but got None.\n",
      "\n",
      "  warnings.warn(\"Estimator fit failed. The score on this train-test\"\n",
      "C:\\Users\\pycar\\anaconda3\\lib\\site-packages\\sklearn\\model_selection\\_validation.py:615: FitFailedWarning: Estimator fit failed. The score on this train-test partition for these parameters will be set to nan. Details: \n",
      "Traceback (most recent call last):\n",
      "  File \"C:\\Users\\pycar\\anaconda3\\lib\\site-packages\\sklearn\\model_selection\\_validation.py\", line 598, in _fit_and_score\n",
      "    estimator.fit(X_train, y_train, **fit_params)\n",
      "  File \"C:\\Users\\pycar\\anaconda3\\lib\\site-packages\\sklearn\\dummy.py\", line 516, in fit\n",
      "    raise TypeError(\"Constant target value has to be specified \"\n",
      "TypeError: Constant target value has to be specified when the constant strategy is used.\n",
      "\n",
      "  warnings.warn(\"Estimator fit failed. The score on this train-test\"\n",
      "C:\\Users\\pycar\\anaconda3\\lib\\site-packages\\sklearn\\model_selection\\_validation.py:615: FitFailedWarning: Estimator fit failed. The score on this train-test partition for these parameters will be set to nan. Details: \n",
      "Traceback (most recent call last):\n",
      "  File \"C:\\Users\\pycar\\anaconda3\\lib\\site-packages\\sklearn\\model_selection\\_validation.py\", line 598, in _fit_and_score\n",
      "    estimator.fit(X_train, y_train, **fit_params)\n",
      "  File \"C:\\Users\\pycar\\anaconda3\\lib\\site-packages\\sklearn\\dummy.py\", line 516, in fit\n",
      "    raise TypeError(\"Constant target value has to be specified \"\n",
      "TypeError: Constant target value has to be specified when the constant strategy is used.\n",
      "\n",
      "  warnings.warn(\"Estimator fit failed. The score on this train-test\"\n",
      "C:\\Users\\pycar\\anaconda3\\lib\\site-packages\\sklearn\\model_selection\\_validation.py:615: FitFailedWarning: Estimator fit failed. The score on this train-test partition for these parameters will be set to nan. Details: \n",
      "Traceback (most recent call last):\n",
      "  File \"C:\\Users\\pycar\\anaconda3\\lib\\site-packages\\sklearn\\model_selection\\_validation.py\", line 598, in _fit_and_score\n",
      "    estimator.fit(X_train, y_train, **fit_params)\n",
      "  File \"C:\\Users\\pycar\\anaconda3\\lib\\site-packages\\sklearn\\dummy.py\", line 516, in fit\n",
      "    raise TypeError(\"Constant target value has to be specified \"\n",
      "TypeError: Constant target value has to be specified when the constant strategy is used.\n",
      "\n",
      "  warnings.warn(\"Estimator fit failed. The score on this train-test\"\n",
      "C:\\Users\\pycar\\anaconda3\\lib\\site-packages\\sklearn\\model_selection\\_validation.py:615: FitFailedWarning: Estimator fit failed. The score on this train-test partition for these parameters will be set to nan. Details: \n",
      "Traceback (most recent call last):\n",
      "  File \"C:\\Users\\pycar\\anaconda3\\lib\\site-packages\\sklearn\\model_selection\\_validation.py\", line 598, in _fit_and_score\n",
      "    estimator.fit(X_train, y_train, **fit_params)\n",
      "  File \"C:\\Users\\pycar\\anaconda3\\lib\\site-packages\\sklearn\\dummy.py\", line 516, in fit\n",
      "    raise TypeError(\"Constant target value has to be specified \"\n",
      "TypeError: Constant target value has to be specified when the constant strategy is used.\n",
      "\n",
      "  warnings.warn(\"Estimator fit failed. The score on this train-test\"\n",
      "C:\\Users\\pycar\\anaconda3\\lib\\site-packages\\sklearn\\model_selection\\_validation.py:615: FitFailedWarning: Estimator fit failed. The score on this train-test partition for these parameters will be set to nan. Details: \n",
      "Traceback (most recent call last):\n",
      "  File \"C:\\Users\\pycar\\anaconda3\\lib\\site-packages\\sklearn\\model_selection\\_validation.py\", line 598, in _fit_and_score\n",
      "    estimator.fit(X_train, y_train, **fit_params)\n",
      "  File \"C:\\Users\\pycar\\anaconda3\\lib\\site-packages\\sklearn\\dummy.py\", line 516, in fit\n",
      "    raise TypeError(\"Constant target value has to be specified \"\n",
      "TypeError: Constant target value has to be specified when the constant strategy is used.\n",
      "\n",
      "  warnings.warn(\"Estimator fit failed. The score on this train-test\"\n",
      "C:\\Users\\pycar\\anaconda3\\lib\\site-packages\\sklearn\\model_selection\\_search.py:922: UserWarning: One or more of the test scores are non-finite: [-0.0100141  -0.02078845         nan         nan]\n",
      "  warnings.warn(\n",
      "C:\\Users\\pycar\\anaconda3\\lib\\site-packages\\sklearn\\linear_model\\_coordinate_descent.py:530: ConvergenceWarning: Objective did not converge. You might want to increase the number of iterations. Duality gap: 8881669363.351799, tolerance: 19276310.93572991\n",
      "  model = cd_fast.enet_coordinate_descent(\n",
      "C:\\Users\\pycar\\anaconda3\\lib\\site-packages\\sklearn\\linear_model\\_coordinate_descent.py:530: ConvergenceWarning: Objective did not converge. You might want to increase the number of iterations. Duality gap: 18885188596.79454, tolerance: 18988532.955432635\n",
      "  model = cd_fast.enet_coordinate_descent(\n",
      "C:\\Users\\pycar\\anaconda3\\lib\\site-packages\\sklearn\\linear_model\\_coordinate_descent.py:530: ConvergenceWarning: Objective did not converge. You might want to increase the number of iterations. Duality gap: 4757248392.797882, tolerance: 19059980.77848392\n",
      "  model = cd_fast.enet_coordinate_descent(\n",
      "C:\\Users\\pycar\\anaconda3\\lib\\site-packages\\sklearn\\linear_model\\_coordinate_descent.py:530: ConvergenceWarning: Objective did not converge. You might want to increase the number of iterations. Duality gap: 24699542457.190605, tolerance: 17699283.436878793\n",
      "  model = cd_fast.enet_coordinate_descent(\n",
      "C:\\Users\\pycar\\anaconda3\\lib\\site-packages\\sklearn\\linear_model\\_coordinate_descent.py:530: ConvergenceWarning: Objective did not converge. You might want to increase the number of iterations. Duality gap: 21521358528.897095, tolerance: 18845494.505766436\n",
      "  model = cd_fast.enet_coordinate_descent(\n",
      "C:\\Users\\pycar\\anaconda3\\lib\\site-packages\\sklearn\\linear_model\\_coordinate_descent.py:530: ConvergenceWarning: Objective did not converge. You might want to increase the number of iterations. Duality gap: 8804705276.898735, tolerance: 19276310.93572991\n",
      "  model = cd_fast.enet_coordinate_descent(\n",
      "C:\\Users\\pycar\\anaconda3\\lib\\site-packages\\sklearn\\linear_model\\_coordinate_descent.py:530: ConvergenceWarning: Objective did not converge. You might want to increase the number of iterations. Duality gap: 18885111100.286953, tolerance: 18988532.955432635\n",
      "  model = cd_fast.enet_coordinate_descent(\n",
      "C:\\Users\\pycar\\anaconda3\\lib\\site-packages\\sklearn\\linear_model\\_coordinate_descent.py:530: ConvergenceWarning: Objective did not converge. You might want to increase the number of iterations. Duality gap: 8638000019.480919, tolerance: 19059980.77848392\n",
      "  model = cd_fast.enet_coordinate_descent(\n",
      "C:\\Users\\pycar\\anaconda3\\lib\\site-packages\\sklearn\\linear_model\\_coordinate_descent.py:530: ConvergenceWarning: Objective did not converge. You might want to increase the number of iterations. Duality gap: 22203888921.242336, tolerance: 17699283.436878793\n",
      "  model = cd_fast.enet_coordinate_descent(\n",
      "C:\\Users\\pycar\\anaconda3\\lib\\site-packages\\sklearn\\linear_model\\_coordinate_descent.py:530: ConvergenceWarning: Objective did not converge. You might want to increase the number of iterations. Duality gap: 19524038649.03306, tolerance: 18845494.505766436\n",
      "  model = cd_fast.enet_coordinate_descent(\n",
      "C:\\Users\\pycar\\anaconda3\\lib\\site-packages\\sklearn\\linear_model\\_coordinate_descent.py:530: ConvergenceWarning: Objective did not converge. You might want to increase the number of iterations. Duality gap: 8804700629.454048, tolerance: 19276310.93572991\n",
      "  model = cd_fast.enet_coordinate_descent(\n",
      "C:\\Users\\pycar\\anaconda3\\lib\\site-packages\\sklearn\\linear_model\\_coordinate_descent.py:530: ConvergenceWarning: Objective did not converge. You might want to increase the number of iterations. Duality gap: 18885058081.266277, tolerance: 18988532.955432635\n",
      "  model = cd_fast.enet_coordinate_descent(\n",
      "C:\\Users\\pycar\\anaconda3\\lib\\site-packages\\sklearn\\linear_model\\_coordinate_descent.py:530: ConvergenceWarning: Objective did not converge. You might want to increase the number of iterations. Duality gap: 8637989074.9431, tolerance: 19059980.77848392\n",
      "  model = cd_fast.enet_coordinate_descent(\n",
      "C:\\Users\\pycar\\anaconda3\\lib\\site-packages\\sklearn\\linear_model\\_coordinate_descent.py:530: ConvergenceWarning: Objective did not converge. You might want to increase the number of iterations. Duality gap: 15675330596.602554, tolerance: 17699283.436878793\n",
      "  model = cd_fast.enet_coordinate_descent(\n",
      "C:\\Users\\pycar\\anaconda3\\lib\\site-packages\\sklearn\\linear_model\\_coordinate_descent.py:530: ConvergenceWarning: Objective did not converge. You might want to increase the number of iterations. Duality gap: 17011707649.87859, tolerance: 18845494.505766436\n",
      "  model = cd_fast.enet_coordinate_descent(\n",
      "C:\\Users\\pycar\\anaconda3\\lib\\site-packages\\sklearn\\linear_model\\_coordinate_descent.py:530: ConvergenceWarning: Objective did not converge. You might want to increase the number of iterations. Duality gap: 8804666533.350327, tolerance: 19276310.93572991\n",
      "  model = cd_fast.enet_coordinate_descent(\n",
      "C:\\Users\\pycar\\anaconda3\\lib\\site-packages\\sklearn\\linear_model\\_coordinate_descent.py:530: ConvergenceWarning: Objective did not converge. You might want to increase the number of iterations. Duality gap: 6373990244.176605, tolerance: 18988532.955432635\n",
      "  model = cd_fast.enet_coordinate_descent(\n",
      "C:\\Users\\pycar\\anaconda3\\lib\\site-packages\\sklearn\\linear_model\\_coordinate_descent.py:530: ConvergenceWarning: Objective did not converge. You might want to increase the number of iterations. Duality gap: 8637961713.935768, tolerance: 19059980.77848392\n",
      "  model = cd_fast.enet_coordinate_descent(\n",
      "C:\\Users\\pycar\\anaconda3\\lib\\site-packages\\sklearn\\linear_model\\_coordinate_descent.py:530: ConvergenceWarning: Objective did not converge. You might want to increase the number of iterations. Duality gap: 4086582892.296623, tolerance: 17699283.436878793\n",
      "  model = cd_fast.enet_coordinate_descent(\n",
      "C:\\Users\\pycar\\anaconda3\\lib\\site-packages\\sklearn\\linear_model\\_coordinate_descent.py:530: ConvergenceWarning: Objective did not converge. You might want to increase the number of iterations. Duality gap: 13784229810.48592, tolerance: 18845494.505766436\n",
      "  model = cd_fast.enet_coordinate_descent(\n",
      "C:\\Users\\pycar\\anaconda3\\lib\\site-packages\\sklearn\\linear_model\\_coordinate_descent.py:530: ConvergenceWarning: Objective did not converge. You might want to increase the number of iterations. Duality gap: 25897048629.070335, tolerance: 109482831.58160001\n",
      "  model = cd_fast.enet_coordinate_descent(\n",
      "C:\\Users\\pycar\\anaconda3\\lib\\site-packages\\sklearn\\linear_model\\_coordinate_descent.py:530: ConvergenceWarning: Objective did not converge. You might want to increase the number of iterations. Duality gap: 25804905078.201935, tolerance: 109211754.28140001\n",
      "  model = cd_fast.enet_coordinate_descent(\n",
      "C:\\Users\\pycar\\anaconda3\\lib\\site-packages\\sklearn\\linear_model\\_coordinate_descent.py:530: ConvergenceWarning: Objective did not converge. You might want to increase the number of iterations. Duality gap: 28022676184.055386, tolerance: 110105818.4149\n",
      "  model = cd_fast.enet_coordinate_descent(\n",
      "C:\\Users\\pycar\\anaconda3\\lib\\site-packages\\sklearn\\linear_model\\_coordinate_descent.py:530: ConvergenceWarning: Objective did not converge. You might want to increase the number of iterations. Duality gap: 24430008228.652203, tolerance: 103879125.65540001\n",
      "  model = cd_fast.enet_coordinate_descent(\n",
      "C:\\Users\\pycar\\anaconda3\\lib\\site-packages\\sklearn\\linear_model\\_coordinate_descent.py:530: ConvergenceWarning: Objective did not converge. You might want to increase the number of iterations. Duality gap: 26806842997.0014, tolerance: 108318888.6103\n",
      "  model = cd_fast.enet_coordinate_descent(\n",
      "C:\\Users\\pycar\\anaconda3\\lib\\site-packages\\sklearn\\linear_model\\_coordinate_descent.py:530: ConvergenceWarning: Objective did not converge. You might want to increase the number of iterations. Duality gap: 25897016118.55346, tolerance: 109482831.58160001\n",
      "  model = cd_fast.enet_coordinate_descent(\n",
      "C:\\Users\\pycar\\anaconda3\\lib\\site-packages\\sklearn\\linear_model\\_coordinate_descent.py:530: ConvergenceWarning: Objective did not converge. You might want to increase the number of iterations. Duality gap: 25804675704.767807, tolerance: 109211754.28140001\n",
      "  model = cd_fast.enet_coordinate_descent(\n",
      "C:\\Users\\pycar\\anaconda3\\lib\\site-packages\\sklearn\\linear_model\\_coordinate_descent.py:530: ConvergenceWarning: Objective did not converge. You might want to increase the number of iterations. Duality gap: 28022459949.0528, tolerance: 110105818.4149\n",
      "  model = cd_fast.enet_coordinate_descent(\n",
      "C:\\Users\\pycar\\anaconda3\\lib\\site-packages\\sklearn\\linear_model\\_coordinate_descent.py:530: ConvergenceWarning: Objective did not converge. You might want to increase the number of iterations. Duality gap: 24429761256.395096, tolerance: 103879125.65540001\n",
      "  model = cd_fast.enet_coordinate_descent(\n",
      "C:\\Users\\pycar\\anaconda3\\lib\\site-packages\\sklearn\\linear_model\\_coordinate_descent.py:530: ConvergenceWarning: Objective did not converge. You might want to increase the number of iterations. Duality gap: 26806627303.733883, tolerance: 108318888.6103\n",
      "  model = cd_fast.enet_coordinate_descent(\n",
      "C:\\Users\\pycar\\anaconda3\\lib\\site-packages\\sklearn\\linear_model\\_coordinate_descent.py:530: ConvergenceWarning: Objective did not converge. You might want to increase the number of iterations. Duality gap: 25896847255.64812, tolerance: 109482831.58160001\n",
      "  model = cd_fast.enet_coordinate_descent(\n",
      "C:\\Users\\pycar\\anaconda3\\lib\\site-packages\\sklearn\\linear_model\\_coordinate_descent.py:530: ConvergenceWarning: Objective did not converge. You might want to increase the number of iterations. Duality gap: 25804470129.259254, tolerance: 109211754.28140001\n",
      "  model = cd_fast.enet_coordinate_descent(\n",
      "C:\\Users\\pycar\\anaconda3\\lib\\site-packages\\sklearn\\linear_model\\_coordinate_descent.py:530: ConvergenceWarning: Objective did not converge. You might want to increase the number of iterations. Duality gap: 28022272029.338806, tolerance: 110105818.4149\n",
      "  model = cd_fast.enet_coordinate_descent(\n",
      "C:\\Users\\pycar\\anaconda3\\lib\\site-packages\\sklearn\\linear_model\\_coordinate_descent.py:530: ConvergenceWarning: Objective did not converge. You might want to increase the number of iterations. Duality gap: 24429532834.956596, tolerance: 103879125.65540001\n",
      "  model = cd_fast.enet_coordinate_descent(\n",
      "C:\\Users\\pycar\\anaconda3\\lib\\site-packages\\sklearn\\linear_model\\_coordinate_descent.py:530: ConvergenceWarning: Objective did not converge. You might want to increase the number of iterations. Duality gap: 26806447306.2479, tolerance: 108318888.6103\n",
      "  model = cd_fast.enet_coordinate_descent(\n",
      "C:\\Users\\pycar\\anaconda3\\lib\\site-packages\\sklearn\\linear_model\\_coordinate_descent.py:530: ConvergenceWarning: Objective did not converge. You might want to increase the number of iterations. Duality gap: 25853776079.305893, tolerance: 109482831.58160001\n",
      "  model = cd_fast.enet_coordinate_descent(\n",
      "C:\\Users\\pycar\\anaconda3\\lib\\site-packages\\sklearn\\linear_model\\_coordinate_descent.py:530: ConvergenceWarning: Objective did not converge. You might want to increase the number of iterations. Duality gap: 25804035060.95273, tolerance: 109211754.28140001\n",
      "  model = cd_fast.enet_coordinate_descent(\n",
      "C:\\Users\\pycar\\anaconda3\\lib\\site-packages\\sklearn\\linear_model\\_coordinate_descent.py:530: ConvergenceWarning: Objective did not converge. You might want to increase the number of iterations. Duality gap: 28021856016.880737, tolerance: 110105818.4149\n",
      "  model = cd_fast.enet_coordinate_descent(\n",
      "C:\\Users\\pycar\\anaconda3\\lib\\site-packages\\sklearn\\linear_model\\_coordinate_descent.py:530: ConvergenceWarning: Objective did not converge. You might want to increase the number of iterations. Duality gap: 24429075715.373478, tolerance: 103879125.65540001\n",
      "  model = cd_fast.enet_coordinate_descent(\n",
      "C:\\Users\\pycar\\anaconda3\\lib\\site-packages\\sklearn\\linear_model\\_coordinate_descent.py:530: ConvergenceWarning: Objective did not converge. You might want to increase the number of iterations. Duality gap: 26806043076.02713, tolerance: 108318888.6103\n",
      "  model = cd_fast.enet_coordinate_descent(\n",
      "C:\\Users\\pycar\\anaconda3\\lib\\site-packages\\sklearn\\linear_model\\_coordinate_descent.py:530: ConvergenceWarning: Objective did not converge. You might want to increase the number of iterations. Duality gap: 8831384905.0755, tolerance: 19276310.93572991\n",
      "  model = cd_fast.enet_coordinate_descent(\n",
      "C:\\Users\\pycar\\anaconda3\\lib\\site-packages\\sklearn\\linear_model\\_coordinate_descent.py:530: ConvergenceWarning: Objective did not converge. You might want to increase the number of iterations. Duality gap: 6396760921.97979, tolerance: 18988532.955432635\n",
      "  model = cd_fast.enet_coordinate_descent(\n",
      "C:\\Users\\pycar\\anaconda3\\lib\\site-packages\\sklearn\\linear_model\\_coordinate_descent.py:530: ConvergenceWarning: Objective did not converge. You might want to increase the number of iterations. Duality gap: 8663343647.687935, tolerance: 19059980.77848392\n",
      "  model = cd_fast.enet_coordinate_descent(\n",
      "C:\\Users\\pycar\\anaconda3\\lib\\site-packages\\sklearn\\linear_model\\_coordinate_descent.py:530: ConvergenceWarning: Objective did not converge. You might want to increase the number of iterations. Duality gap: 4105314325.934059, tolerance: 17699283.436878793\n",
      "  model = cd_fast.enet_coordinate_descent(\n",
      "C:\\Users\\pycar\\anaconda3\\lib\\site-packages\\sklearn\\linear_model\\_coordinate_descent.py:530: ConvergenceWarning: Objective did not converge. You might want to increase the number of iterations. Duality gap: 13813924267.39513, tolerance: 18845494.505766436\n",
      "  model = cd_fast.enet_coordinate_descent(\n",
      "C:\\Users\\pycar\\anaconda3\\lib\\site-packages\\sklearn\\linear_model\\_coordinate_descent.py:530: ConvergenceWarning: Objective did not converge. You might want to increase the number of iterations. Duality gap: 2158209826.328354, tolerance: 19276310.93572991\n",
      "  model = cd_fast.enet_coordinate_descent(\n",
      "C:\\Users\\pycar\\anaconda3\\lib\\site-packages\\sklearn\\linear_model\\_coordinate_descent.py:530: ConvergenceWarning: Objective did not converge. You might want to increase the number of iterations. Duality gap: 1402434596.8267822, tolerance: 18988532.955432635\n",
      "  model = cd_fast.enet_coordinate_descent(\n",
      "C:\\Users\\pycar\\anaconda3\\lib\\site-packages\\sklearn\\linear_model\\_coordinate_descent.py:530: ConvergenceWarning: Objective did not converge. You might want to increase the number of iterations. Duality gap: 411906310.10839844, tolerance: 19059980.77848392\n",
      "  model = cd_fast.enet_coordinate_descent(\n",
      "C:\\Users\\pycar\\anaconda3\\lib\\site-packages\\sklearn\\linear_model\\_coordinate_descent.py:530: ConvergenceWarning: Objective did not converge. You might want to increase the number of iterations. Duality gap: 4103754246.2974396, tolerance: 17699283.436878793\n",
      "  model = cd_fast.enet_coordinate_descent(\n",
      "C:\\Users\\pycar\\anaconda3\\lib\\site-packages\\sklearn\\linear_model\\_coordinate_descent.py:530: ConvergenceWarning: Objective did not converge. You might want to increase the number of iterations. Duality gap: 4276823350.3982773, tolerance: 18845494.505766436\n",
      "  model = cd_fast.enet_coordinate_descent(\n",
      "C:\\Users\\pycar\\anaconda3\\lib\\site-packages\\sklearn\\linear_model\\_coordinate_descent.py:530: ConvergenceWarning: Objective did not converge. You might want to increase the number of iterations. Duality gap: 346021474.05989075, tolerance: 19276310.93572991\n",
      "  model = cd_fast.enet_coordinate_descent(\n",
      "C:\\Users\\pycar\\anaconda3\\lib\\site-packages\\sklearn\\linear_model\\_coordinate_descent.py:530: ConvergenceWarning: Objective did not converge. You might want to increase the number of iterations. Duality gap: 293069325.38710785, tolerance: 18988532.955432635\n",
      "  model = cd_fast.enet_coordinate_descent(\n",
      "C:\\Users\\pycar\\anaconda3\\lib\\site-packages\\sklearn\\linear_model\\_coordinate_descent.py:530: ConvergenceWarning: Objective did not converge. You might want to increase the number of iterations. Duality gap: 183146500.82725525, tolerance: 17699283.436878793\n",
      "  model = cd_fast.enet_coordinate_descent(\n",
      "C:\\Users\\pycar\\anaconda3\\lib\\site-packages\\sklearn\\linear_model\\_coordinate_descent.py:530: ConvergenceWarning: Objective did not converge. You might want to increase the number of iterations. Duality gap: 293023739.1171875, tolerance: 18988532.955432635\n",
      "  model = cd_fast.enet_coordinate_descent(\n",
      "C:\\Users\\pycar\\anaconda3\\lib\\site-packages\\sklearn\\linear_model\\_coordinate_descent.py:530: ConvergenceWarning: Objective did not converge. You might want to increase the number of iterations. Duality gap: 25900309758.77826, tolerance: 109482831.58160001\n",
      "  model = cd_fast.enet_coordinate_descent(\n",
      "C:\\Users\\pycar\\anaconda3\\lib\\site-packages\\sklearn\\linear_model\\_coordinate_descent.py:530: ConvergenceWarning: Objective did not converge. You might want to increase the number of iterations. Duality gap: 25914425294.91471, tolerance: 109211754.28140001\n",
      "  model = cd_fast.enet_coordinate_descent(\n",
      "C:\\Users\\pycar\\anaconda3\\lib\\site-packages\\sklearn\\linear_model\\_coordinate_descent.py:530: ConvergenceWarning: Objective did not converge. You might want to increase the number of iterations. Duality gap: 28131154696.276787, tolerance: 110105818.4149\n",
      "  model = cd_fast.enet_coordinate_descent(\n",
      "C:\\Users\\pycar\\anaconda3\\lib\\site-packages\\sklearn\\linear_model\\_coordinate_descent.py:530: ConvergenceWarning: Objective did not converge. You might want to increase the number of iterations. Duality gap: 24529673675.426052, tolerance: 103879125.65540001\n",
      "  model = cd_fast.enet_coordinate_descent(\n",
      "C:\\Users\\pycar\\anaconda3\\lib\\site-packages\\sklearn\\linear_model\\_coordinate_descent.py:530: ConvergenceWarning: Objective did not converge. You might want to increase the number of iterations. Duality gap: 26910801093.608395, tolerance: 108318888.6103\n",
      "  model = cd_fast.enet_coordinate_descent(\n",
      "C:\\Users\\pycar\\anaconda3\\lib\\site-packages\\sklearn\\linear_model\\_coordinate_descent.py:530: ConvergenceWarning: Objective did not converge. You might want to increase the number of iterations. Duality gap: 25547069364.024162, tolerance: 109482831.58160001\n",
      "  model = cd_fast.enet_coordinate_descent(\n",
      "C:\\Users\\pycar\\anaconda3\\lib\\site-packages\\sklearn\\linear_model\\_coordinate_descent.py:530: ConvergenceWarning: Objective did not converge. You might want to increase the number of iterations. Duality gap: 25494466070.95186, tolerance: 109211754.28140001\n",
      "  model = cd_fast.enet_coordinate_descent(\n",
      "C:\\Users\\pycar\\anaconda3\\lib\\site-packages\\sklearn\\linear_model\\_coordinate_descent.py:530: ConvergenceWarning: Objective did not converge. You might want to increase the number of iterations. Duality gap: 28115821641.964867, tolerance: 110105818.4149\n",
      "  model = cd_fast.enet_coordinate_descent(\n",
      "C:\\Users\\pycar\\anaconda3\\lib\\site-packages\\sklearn\\linear_model\\_coordinate_descent.py:530: ConvergenceWarning: Objective did not converge. You might want to increase the number of iterations. Duality gap: 23679974811.906647, tolerance: 103879125.65540001\n",
      "  model = cd_fast.enet_coordinate_descent(\n",
      "C:\\Users\\pycar\\anaconda3\\lib\\site-packages\\sklearn\\linear_model\\_coordinate_descent.py:530: ConvergenceWarning: Objective did not converge. You might want to increase the number of iterations. Duality gap: 26409916059.66314, tolerance: 108318888.6103\n",
      "  model = cd_fast.enet_coordinate_descent(\n",
      "C:\\Users\\pycar\\anaconda3\\lib\\site-packages\\sklearn\\linear_model\\_coordinate_descent.py:530: ConvergenceWarning: Objective did not converge. You might want to increase the number of iterations. Duality gap: 23880028662.89541, tolerance: 109482831.58160001\n",
      "  model = cd_fast.enet_coordinate_descent(\n",
      "C:\\Users\\pycar\\anaconda3\\lib\\site-packages\\sklearn\\linear_model\\_coordinate_descent.py:530: ConvergenceWarning: Objective did not converge. You might want to increase the number of iterations. Duality gap: 23473254390.405914, tolerance: 109211754.28140001\n",
      "  model = cd_fast.enet_coordinate_descent(\n",
      "C:\\Users\\pycar\\anaconda3\\lib\\site-packages\\sklearn\\linear_model\\_coordinate_descent.py:530: ConvergenceWarning: Objective did not converge. You might want to increase the number of iterations. Duality gap: 27039050196.18448, tolerance: 110105818.4149\n",
      "  model = cd_fast.enet_coordinate_descent(\n",
      "C:\\Users\\pycar\\anaconda3\\lib\\site-packages\\sklearn\\linear_model\\_coordinate_descent.py:530: ConvergenceWarning: Objective did not converge. You might want to increase the number of iterations. Duality gap: 23190502724.26027, tolerance: 103879125.65540001\n",
      "  model = cd_fast.enet_coordinate_descent(\n",
      "C:\\Users\\pycar\\anaconda3\\lib\\site-packages\\sklearn\\linear_model\\_coordinate_descent.py:530: ConvergenceWarning: Objective did not converge. You might want to increase the number of iterations. Duality gap: 24660423333.286373, tolerance: 108318888.6103\n",
      "  model = cd_fast.enet_coordinate_descent(\n",
      "C:\\Users\\pycar\\anaconda3\\lib\\site-packages\\sklearn\\linear_model\\_coordinate_descent.py:530: ConvergenceWarning: Objective did not converge. You might want to increase the number of iterations. Duality gap: 5960385746.022476, tolerance: 109482831.58160001\n",
      "  model = cd_fast.enet_coordinate_descent(\n",
      "C:\\Users\\pycar\\anaconda3\\lib\\site-packages\\sklearn\\linear_model\\_coordinate_descent.py:530: ConvergenceWarning: Objective did not converge. You might want to increase the number of iterations. Duality gap: 6334315606.103806, tolerance: 109211754.28140001\n",
      "  model = cd_fast.enet_coordinate_descent(\n",
      "C:\\Users\\pycar\\anaconda3\\lib\\site-packages\\sklearn\\linear_model\\_coordinate_descent.py:530: ConvergenceWarning: Objective did not converge. You might want to increase the number of iterations. Duality gap: 10207275445.66819, tolerance: 110105818.4149\n",
      "  model = cd_fast.enet_coordinate_descent(\n",
      "C:\\Users\\pycar\\anaconda3\\lib\\site-packages\\sklearn\\linear_model\\_coordinate_descent.py:530: ConvergenceWarning: Objective did not converge. You might want to increase the number of iterations. Duality gap: 2574873126.2985535, tolerance: 103879125.65540001\n",
      "  model = cd_fast.enet_coordinate_descent(\n",
      "C:\\Users\\pycar\\anaconda3\\lib\\site-packages\\sklearn\\linear_model\\_coordinate_descent.py:530: ConvergenceWarning: Objective did not converge. You might want to increase the number of iterations. Duality gap: 7116473295.407089, tolerance: 108318888.6103\n",
      "  model = cd_fast.enet_coordinate_descent(\n",
      "C:\\Users\\pycar\\anaconda3\\lib\\site-packages\\sklearn\\linear_model\\_coordinate_descent.py:530: ConvergenceWarning: Objective did not converge. You might want to increase the number of iterations. Duality gap: 340571653.90356445, tolerance: 18988532.955432635\n",
      "  model = cd_fast.enet_coordinate_descent(\n",
      "C:\\Users\\pycar\\anaconda3\\lib\\site-packages\\sklearn\\linear_model\\_coordinate_descent.py:530: ConvergenceWarning: Objective did not converge. You might want to increase the number of iterations. Duality gap: 6376414249.018303, tolerance: 109482831.58160001\n",
      "  model = cd_fast.enet_coordinate_descent(\n",
      "C:\\Users\\pycar\\anaconda3\\lib\\site-packages\\sklearn\\linear_model\\_coordinate_descent.py:530: ConvergenceWarning: Objective did not converge. You might want to increase the number of iterations. Duality gap: 6717849174.114021, tolerance: 109211754.28140001\n",
      "  model = cd_fast.enet_coordinate_descent(\n",
      "C:\\Users\\pycar\\anaconda3\\lib\\site-packages\\sklearn\\linear_model\\_coordinate_descent.py:530: ConvergenceWarning: Objective did not converge. You might want to increase the number of iterations. Duality gap: 10628734928.284676, tolerance: 110105818.4149\n",
      "  model = cd_fast.enet_coordinate_descent(\n",
      "C:\\Users\\pycar\\anaconda3\\lib\\site-packages\\sklearn\\linear_model\\_coordinate_descent.py:530: ConvergenceWarning: Objective did not converge. You might want to increase the number of iterations. Duality gap: 2914601766.0576706, tolerance: 103879125.65540001\n",
      "  model = cd_fast.enet_coordinate_descent(\n",
      "C:\\Users\\pycar\\anaconda3\\lib\\site-packages\\sklearn\\linear_model\\_coordinate_descent.py:530: ConvergenceWarning: Objective did not converge. You might want to increase the number of iterations. Duality gap: 7497355792.829613, tolerance: 108318888.6103\n",
      "  model = cd_fast.enet_coordinate_descent(\n",
      "C:\\Users\\pycar\\anaconda3\\lib\\site-packages\\sklearn\\linear_model\\_coordinate_descent.py:530: ConvergenceWarning: Objective did not converge. You might want to increase the number of iterations. Duality gap: 1231659051.9185486, tolerance: 109482831.58160001\n",
      "  model = cd_fast.enet_coordinate_descent(\n",
      "C:\\Users\\pycar\\anaconda3\\lib\\site-packages\\sklearn\\linear_model\\_coordinate_descent.py:530: ConvergenceWarning: Objective did not converge. You might want to increase the number of iterations. Duality gap: 738573614.307518, tolerance: 109211754.28140001\n",
      "  model = cd_fast.enet_coordinate_descent(\n",
      "C:\\Users\\pycar\\anaconda3\\lib\\site-packages\\sklearn\\linear_model\\_coordinate_descent.py:530: ConvergenceWarning: Objective did not converge. You might want to increase the number of iterations. Duality gap: 1877843351.4468994, tolerance: 110105818.4149\n",
      "  model = cd_fast.enet_coordinate_descent(\n",
      "C:\\Users\\pycar\\anaconda3\\lib\\site-packages\\sklearn\\linear_model\\_coordinate_descent.py:530: ConvergenceWarning: Objective did not converge. You might want to increase the number of iterations. Duality gap: 1157366743.0029984, tolerance: 103879125.65540001\n",
      "  model = cd_fast.enet_coordinate_descent(\n",
      "C:\\Users\\pycar\\anaconda3\\lib\\site-packages\\sklearn\\linear_model\\_coordinate_descent.py:530: ConvergenceWarning: Objective did not converge. You might want to increase the number of iterations. Duality gap: 971801686.7125473, tolerance: 108318888.6103\n",
      "  model = cd_fast.enet_coordinate_descent(\n",
      "C:\\Users\\pycar\\anaconda3\\lib\\site-packages\\sklearn\\linear_model\\_coordinate_descent.py:530: ConvergenceWarning: Objective did not converge. You might want to increase the number of iterations. Duality gap: 1046807190.8302155, tolerance: 109482831.58160001\n",
      "  model = cd_fast.enet_coordinate_descent(\n",
      "C:\\Users\\pycar\\anaconda3\\lib\\site-packages\\sklearn\\linear_model\\_coordinate_descent.py:530: ConvergenceWarning: Objective did not converge. You might want to increase the number of iterations. Duality gap: 476619365.5832367, tolerance: 110105818.4149\n",
      "  model = cd_fast.enet_coordinate_descent(\n",
      "C:\\Users\\pycar\\anaconda3\\lib\\site-packages\\sklearn\\linear_model\\_coordinate_descent.py:530: ConvergenceWarning: Objective did not converge. You might want to increase the number of iterations. Duality gap: 502999340.6692276, tolerance: 103879125.65540001\n",
      "  model = cd_fast.enet_coordinate_descent(\n",
      "C:\\Users\\pycar\\anaconda3\\lib\\site-packages\\sklearn\\linear_model\\_coordinate_descent.py:530: ConvergenceWarning: Objective did not converge. You might want to increase the number of iterations. Duality gap: 413314372.0609894, tolerance: 108318888.6103\n",
      "  model = cd_fast.enet_coordinate_descent(\n",
      "C:\\Users\\pycar\\anaconda3\\lib\\site-packages\\sklearn\\linear_model\\_coordinate_descent.py:530: ConvergenceWarning: Objective did not converge. You might want to increase the number of iterations. Duality gap: 217735078.79637146, tolerance: 109211754.28140001\n",
      "  model = cd_fast.enet_coordinate_descent(\n"
     ]
    }
   ],
   "source": [
    "modele = ml.trouve_meilleur_modele(X_train, y_train)"
   ]
  },
  {
   "cell_type": "code",
   "execution_count": 40,
   "metadata": {},
   "outputs": [
    {
     "data": {
      "text/html": [
       "<div>\n",
       "<style scoped>\n",
       "    .dataframe tbody tr th:only-of-type {\n",
       "        vertical-align: middle;\n",
       "    }\n",
       "\n",
       "    .dataframe tbody tr th {\n",
       "        vertical-align: top;\n",
       "    }\n",
       "\n",
       "    .dataframe thead th {\n",
       "        text-align: right;\n",
       "    }\n",
       "</style>\n",
       "<table border=\"1\" class=\"dataframe\">\n",
       "  <thead>\n",
       "    <tr style=\"text-align: right;\">\n",
       "      <th></th>\n",
       "      <th>model</th>\n",
       "      <th>best_score</th>\n",
       "      <th>best_params</th>\n",
       "    </tr>\n",
       "  </thead>\n",
       "  <tbody>\n",
       "    <tr>\n",
       "      <th>0</th>\n",
       "      <td>DummyRegressor</td>\n",
       "      <td>-1.001410e-02</td>\n",
       "      <td>{'strategy': 'mean'}</td>\n",
       "    </tr>\n",
       "    <tr>\n",
       "      <th>1</th>\n",
       "      <td>Linear Regression</td>\n",
       "      <td>-3.950064e+23</td>\n",
       "      <td>{'fit_intercept': False}</td>\n",
       "    </tr>\n",
       "    <tr>\n",
       "      <th>2</th>\n",
       "      <td>Lasso</td>\n",
       "      <td>2.377247e-01</td>\n",
       "      <td>{'alpha': 10.0, 'fit_intercept': True, 'max_it...</td>\n",
       "    </tr>\n",
       "    <tr>\n",
       "      <th>3</th>\n",
       "      <td>Ridge</td>\n",
       "      <td>2.933102e-01</td>\n",
       "      <td>{'alpha': 10.0, 'fit_intercept': True, 'solver...</td>\n",
       "    </tr>\n",
       "    <tr>\n",
       "      <th>4</th>\n",
       "      <td>ElasticNet</td>\n",
       "      <td>3.158393e-01</td>\n",
       "      <td>{'alpha': 0.1, 'fit_intercept': True, 'l1_rati...</td>\n",
       "    </tr>\n",
       "    <tr>\n",
       "      <th>5</th>\n",
       "      <td>KNeighborsRegressor</td>\n",
       "      <td>2.323820e-01</td>\n",
       "      <td>{'n_neighbors': 11}</td>\n",
       "    </tr>\n",
       "    <tr>\n",
       "      <th>6</th>\n",
       "      <td>Random Forest</td>\n",
       "      <td>4.731835e-01</td>\n",
       "      <td>{'n_estimators': 300}</td>\n",
       "    </tr>\n",
       "    <tr>\n",
       "      <th>7</th>\n",
       "      <td>SVR</td>\n",
       "      <td>3.212031e-01</td>\n",
       "      <td>{'C': 10000, 'epsilon': 10.0}</td>\n",
       "    </tr>\n",
       "  </tbody>\n",
       "</table>\n",
       "</div>"
      ],
      "text/plain": [
       "                 model    best_score  \\\n",
       "0       DummyRegressor -1.001410e-02   \n",
       "1    Linear Regression -3.950064e+23   \n",
       "2                Lasso  2.377247e-01   \n",
       "3                Ridge  2.933102e-01   \n",
       "4           ElasticNet  3.158393e-01   \n",
       "5  KNeighborsRegressor  2.323820e-01   \n",
       "6        Random Forest  4.731835e-01   \n",
       "7                  SVR  3.212031e-01   \n",
       "\n",
       "                                         best_params  \n",
       "0                               {'strategy': 'mean'}  \n",
       "1                           {'fit_intercept': False}  \n",
       "2  {'alpha': 10.0, 'fit_intercept': True, 'max_it...  \n",
       "3  {'alpha': 10.0, 'fit_intercept': True, 'solver...  \n",
       "4  {'alpha': 0.1, 'fit_intercept': True, 'l1_rati...  \n",
       "5                                {'n_neighbors': 11}  \n",
       "6                              {'n_estimators': 300}  \n",
       "7                      {'C': 10000, 'epsilon': 10.0}  "
      ]
     },
     "execution_count": 40,
     "metadata": {},
     "output_type": "execute_result"
    }
   ],
   "source": [
    "modele"
   ]
  },
  {
   "cell_type": "markdown",
   "metadata": {},
   "source": [
    "Globalement les modèles ont un score décevant néanmoins le méthode par forêt aléatoire semble être la plus intéréssante avec 300 estimateurs et un score de 0.47."
   ]
  },
  {
   "cell_type": "markdown",
   "metadata": {},
   "source": [
    "# Mesure de la qualité du modèle"
   ]
  },
  {
   "cell_type": "code",
   "execution_count": 41,
   "metadata": {},
   "outputs": [],
   "source": [
    "Best_model = RandomForestRegressor(n_estimators = 300)"
   ]
  },
  {
   "cell_type": "markdown",
   "metadata": {},
   "source": [
    "Une fois que nous avons un modèle favori, qui nous dit que le nombre d'estimateur est cohérent ? Qui nous dit qu'avec un autre scindement des données de maniere aléatoires on aurait peut etre une forêt aléatoire plus performante ? C'est a ce genre de question que répond la cross-validation."
   ]
  },
  {
   "cell_type": "code",
   "execution_count": 42,
   "metadata": {},
   "outputs": [
    {
     "name": "stdout",
     "output_type": "stream",
     "text": [
      "Moyenne du score des données d'entraînement : 0.47\n",
      "Score des données de test : 0.61\n"
     ]
    }
   ],
   "source": [
    "ml.affiche_scores_meilleur_modele(Best_model,X_train, y_train, X_test, y_test)"
   ]
  },
  {
   "cell_type": "markdown",
   "metadata": {},
   "source": [
    "Globalement les scores sont proches, notre modèle prédit une fois deux correctement dans \"la vraie vie\"."
   ]
  },
  {
   "cell_type": "code",
   "execution_count": 43,
   "metadata": {},
   "outputs": [
    {
     "name": "stdout",
     "output_type": "stream",
     "text": [
      "Erreur moyenne absolue :  9326.15\n"
     ]
    }
   ],
   "source": [
    "ml.calcule_mae(Best_model, y_test, X_test)"
   ]
  },
  {
   "cell_type": "markdown",
   "metadata": {},
   "source": [
    "Notre modèle prédit donc avec une une moyenne d'écart 9326 ce qui témoigne d'un assez grand écart entre la réalité et les prédictions."
   ]
  },
  {
   "cell_type": "code",
   "execution_count": 45,
   "metadata": {},
   "outputs": [
    {
     "data": {
      "text/html": [
       "<div>\n",
       "<style scoped>\n",
       "    .dataframe tbody tr th:only-of-type {\n",
       "        vertical-align: middle;\n",
       "    }\n",
       "\n",
       "    .dataframe tbody tr th {\n",
       "        vertical-align: top;\n",
       "    }\n",
       "\n",
       "    .dataframe thead th {\n",
       "        text-align: right;\n",
       "    }\n",
       "</style>\n",
       "<table border=\"1\" class=\"dataframe\">\n",
       "  <thead>\n",
       "    <tr style=\"text-align: right;\">\n",
       "      <th></th>\n",
       "      <th>Réalité</th>\n",
       "      <th>Prédiction</th>\n",
       "      <th>Écart</th>\n",
       "    </tr>\n",
       "  </thead>\n",
       "  <tbody>\n",
       "    <tr>\n",
       "      <th>361</th>\n",
       "      <td>42873</td>\n",
       "      <td>45063.0</td>\n",
       "      <td>2190.0</td>\n",
       "    </tr>\n",
       "    <tr>\n",
       "      <th>158</th>\n",
       "      <td>43866</td>\n",
       "      <td>45512.0</td>\n",
       "      <td>1646.0</td>\n",
       "    </tr>\n",
       "    <tr>\n",
       "      <th>480</th>\n",
       "      <td>50000</td>\n",
       "      <td>60757.0</td>\n",
       "      <td>10757.0</td>\n",
       "    </tr>\n",
       "    <tr>\n",
       "      <th>640</th>\n",
       "      <td>52959</td>\n",
       "      <td>66576.0</td>\n",
       "      <td>13617.0</td>\n",
       "    </tr>\n",
       "    <tr>\n",
       "      <th>275</th>\n",
       "      <td>75000</td>\n",
       "      <td>60625.0</td>\n",
       "      <td>-14375.0</td>\n",
       "    </tr>\n",
       "    <tr>\n",
       "      <th>362</th>\n",
       "      <td>64286</td>\n",
       "      <td>66665.0</td>\n",
       "      <td>2379.0</td>\n",
       "    </tr>\n",
       "    <tr>\n",
       "      <th>310</th>\n",
       "      <td>27162</td>\n",
       "      <td>25224.0</td>\n",
       "      <td>-1938.0</td>\n",
       "    </tr>\n",
       "    <tr>\n",
       "      <th>199</th>\n",
       "      <td>33425</td>\n",
       "      <td>44598.0</td>\n",
       "      <td>11173.0</td>\n",
       "    </tr>\n",
       "    <tr>\n",
       "      <th>523</th>\n",
       "      <td>54096</td>\n",
       "      <td>45497.0</td>\n",
       "      <td>-8599.0</td>\n",
       "    </tr>\n",
       "    <tr>\n",
       "      <th>90</th>\n",
       "      <td>28000</td>\n",
       "      <td>26128.0</td>\n",
       "      <td>-1872.0</td>\n",
       "    </tr>\n",
       "  </tbody>\n",
       "</table>\n",
       "</div>"
      ],
      "text/plain": [
       "     Réalité  Prédiction    Écart\n",
       "361    42873     45063.0   2190.0\n",
       "158    43866     45512.0   1646.0\n",
       "480    50000     60757.0  10757.0\n",
       "640    52959     66576.0  13617.0\n",
       "275    75000     60625.0 -14375.0\n",
       "362    64286     66665.0   2379.0\n",
       "310    27162     25224.0  -1938.0\n",
       "199    33425     44598.0  11173.0\n",
       "523    54096     45497.0  -8599.0\n",
       "90     28000     26128.0  -1872.0"
      ]
     },
     "execution_count": 45,
     "metadata": {},
     "output_type": "execute_result"
    }
   ],
   "source": [
    "ml.prediction_donnees_test(Best_model, X_train, y_train, y_test, X_test)"
   ]
  },
  {
   "cell_type": "markdown",
   "metadata": {},
   "source": [
    "On voit que certain Écart sont assez important, néanmois il serait intéréssant de voir quelle année est souvent mal prédite."
   ]
  },
  {
   "cell_type": "code",
   "execution_count": 46,
   "metadata": {},
   "outputs": [
    {
     "name": "stdout",
     "output_type": "stream",
     "text": [
      "Year_1982\n",
      "Year_2010\n",
      "Year_1938\n",
      "Year_1986\n",
      "Year_2018\n",
      "Year_2018\n",
      "Year_2018\n",
      "Year_2010\n",
      "Year_1974\n",
      "Year_1994\n"
     ]
    }
   ],
   "source": [
    "ml.trouve_annee_ecart(Best_model, X_train, y_train, X_test, y_test)"
   ]
  },
  {
   "cell_type": "code",
   "execution_count": 47,
   "metadata": {},
   "outputs": [
    {
     "data": {
      "image/png": "[encoded data removed]",
      "text/plain": [
       "<Figure size 432x288 with 1 Axes>"
      ]
     },
     "metadata": {
      "needs_background": "light"
     },
     "output_type": "display_data"
    }
   ],
   "source": [
    "ml.affiche_nuage_prediction(Best_model, X_train, y_train, X_test, y_test)"
   ]
  },
  {
   "cell_type": "markdown",
   "metadata": {},
   "source": [
    "On remarque tout de suite que quelques point semble se détâcher du lot et sont mal prédit, globalement on remarque tout de même une certaine tendance."
   ]
  },
  {
   "cell_type": "code",
   "execution_count": 49,
   "metadata": {},
   "outputs": [
    {
     "data": {
      "image/png": "[encoded data removed]",
      "text/plain": [
       "<Figure size 432x288 with 1 Axes>"
      ]
     },
     "metadata": {
      "needs_background": "light"
     },
     "output_type": "display_data"
    }
   ],
   "source": [
    "ml.affiche_var_importantes(Best_model, X_train, y_train)"
   ]
  },
  {
   "cell_type": "markdown",
   "metadata": {},
   "source": [
    "Enfin on conclut en s'interessant à la courbe d'apprentissage, en effet on aimerai savoir si le fait d'avoir plus de données nous aurait permis d'avoir un score plus élevé."
   ]
  },
  {
   "cell_type": "code",
   "execution_count": 50,
   "metadata": {},
   "outputs": [
    {
     "data": {
      "image/png": "[encoded data removed]",
      "text/plain": [
       "<Figure size 432x288 with 1 Axes>"
      ]
     },
     "metadata": {
      "needs_background": "light"
     },
     "output_type": "display_data"
    }
   ],
   "source": [
    "ml.courbe_apprentissage(Best_model, X_train, y_train)"
   ]
  },
  {
   "cell_type": "markdown",
   "metadata": {},
   "source": [
    "Il s'avère que le fait d'avoir plus de données pourrait nous faire avoir un meilleur score étant donné la pente de la courbe."
   ]
  },
  {
   "cell_type": "markdown",
   "metadata": {},
   "source": [
    "# Futur supporter théorique de la prochaine coupe du monde "
   ]
  },
  {
   "cell_type": "code",
   "execution_count": 51,
   "metadata": {},
   "outputs": [
    {
     "name": "stderr",
     "output_type": "stream",
     "text": [
      "C:\\Users\\pycar\\Documents\\Master\\M2\\Semestre 1\\Machine Learning\\competition.py:33: FutureWarning: Columnar iteration over characters will be deprecated in future releases.\n",
      "  Selec[\"But_marque\"], Selec[\"But_pris\"] = Selec[\"score\"].str.split(\"-\", 1).str\n",
      "C:\\Users\\pycar\\Documents\\Master\\M2\\Semestre 1\\Machine Learning\\competition.py:33: SettingWithCopyWarning: \n",
      "A value is trying to be set on a copy of a slice from a DataFrame.\n",
      "Try using .loc[row_indexer,col_indexer] = value instead\n",
      "\n",
      "See the caveats in the documentation: https://pandas.pydata.org/pandas-docs/stable/user_guide/indexing.html#returning-a-view-versus-a-copy\n",
      "  Selec[\"But_marque\"], Selec[\"But_pris\"] = Selec[\"score\"].str.split(\"-\", 1).str\n",
      "C:\\Users\\pycar\\Documents\\Master\\M2\\Semestre 1\\Machine Learning\\competition.py:35: FutureWarning: Columnar iteration over characters will be deprecated in future releases.\n",
      "  Selec_bis[\"But_pris\"], Selec_bis[\"But_marque\"] = Selec_bis[\"score\"].str.split(\"-\", 1).str\n",
      "C:\\Users\\pycar\\Documents\\Master\\M2\\Semestre 1\\Machine Learning\\competition.py:35: SettingWithCopyWarning: \n",
      "A value is trying to be set on a copy of a slice from a DataFrame.\n",
      "Try using .loc[row_indexer,col_indexer] = value instead\n",
      "\n",
      "See the caveats in the documentation: https://pandas.pydata.org/pandas-docs/stable/user_guide/indexing.html#returning-a-view-versus-a-copy\n",
      "  Selec_bis[\"But_pris\"], Selec_bis[\"But_marque\"] = Selec_bis[\"score\"].str.split(\"-\", 1).str\n"
     ]
    },
    {
     "data": {
      "text/html": [
       "<div>\n",
       "<style scoped>\n",
       "    .dataframe tbody tr th:only-of-type {\n",
       "        vertical-align: middle;\n",
       "    }\n",
       "\n",
       "    .dataframe tbody tr th {\n",
       "        vertical-align: top;\n",
       "    }\n",
       "\n",
       "    .dataframe thead th {\n",
       "        text-align: right;\n",
       "    }\n",
       "</style>\n",
       "<table border=\"1\" class=\"dataframe\">\n",
       "  <thead>\n",
       "    <tr style=\"text-align: right;\">\n",
       "      <th></th>\n",
       "      <th>equipe_1</th>\n",
       "      <th>equipe_2</th>\n",
       "      <th>Annee</th>\n",
       "      <th>Situation</th>\n",
       "      <th>affluence_attendue</th>\n",
       "    </tr>\n",
       "  </thead>\n",
       "  <tbody>\n",
       "    <tr>\n",
       "      <th>0</th>\n",
       "      <td>Pays-Bas</td>\n",
       "      <td>Danemark</td>\n",
       "      <td>2022</td>\n",
       "      <td>1/8F</td>\n",
       "      <td>57441.52</td>\n",
       "    </tr>\n",
       "    <tr>\n",
       "      <th>1</th>\n",
       "      <td>Portugal</td>\n",
       "      <td>Maroc</td>\n",
       "      <td>2022</td>\n",
       "      <td>1/8F</td>\n",
       "      <td>53960.23</td>\n",
       "    </tr>\n",
       "    <tr>\n",
       "      <th>2</th>\n",
       "      <td>Espagne</td>\n",
       "      <td>Suisse</td>\n",
       "      <td>2022</td>\n",
       "      <td>1/8F</td>\n",
       "      <td>45739.26</td>\n",
       "    </tr>\n",
       "    <tr>\n",
       "      <th>3</th>\n",
       "      <td>Mexique</td>\n",
       "      <td>Algerie</td>\n",
       "      <td>2022</td>\n",
       "      <td>1/8F</td>\n",
       "      <td>42628.43</td>\n",
       "    </tr>\n",
       "    <tr>\n",
       "      <th>4</th>\n",
       "      <td>Allemagne</td>\n",
       "      <td>France</td>\n",
       "      <td>2022</td>\n",
       "      <td>1/8F</td>\n",
       "      <td>52052.05</td>\n",
       "    </tr>\n",
       "    <tr>\n",
       "      <th>5</th>\n",
       "      <td>Argentine</td>\n",
       "      <td>Russie</td>\n",
       "      <td>2022</td>\n",
       "      <td>1/8F</td>\n",
       "      <td>48251.20</td>\n",
       "    </tr>\n",
       "    <tr>\n",
       "      <th>6</th>\n",
       "      <td>Bresil</td>\n",
       "      <td>Angleterre</td>\n",
       "      <td>2022</td>\n",
       "      <td>1/8F</td>\n",
       "      <td>44867.32</td>\n",
       "    </tr>\n",
       "    <tr>\n",
       "      <th>7</th>\n",
       "      <td>Belgique</td>\n",
       "      <td>Japon</td>\n",
       "      <td>2022</td>\n",
       "      <td>1/8F</td>\n",
       "      <td>44152.33</td>\n",
       "    </tr>\n",
       "  </tbody>\n",
       "</table>\n",
       "</div>"
      ],
      "text/plain": [
       "    equipe_1    equipe_2 Annee Situation  affluence_attendue\n",
       "0   Pays-Bas    Danemark  2022      1/8F            57441.52\n",
       "1   Portugal       Maroc  2022      1/8F            53960.23\n",
       "2    Espagne      Suisse  2022      1/8F            45739.26\n",
       "3    Mexique     Algerie  2022      1/8F            42628.43\n",
       "4  Allemagne      France  2022      1/8F            52052.05\n",
       "5  Argentine      Russie  2022      1/8F            48251.20\n",
       "6     Bresil  Angleterre  2022      1/8F            44867.32\n",
       "7   Belgique       Japon  2022      1/8F            44152.33"
      ]
     },
     "execution_count": 51,
     "metadata": {},
     "output_type": "execute_result"
    }
   ],
   "source": [
    "ml.prediction_huit(data,Huitieme,Best_model)\n"
   ]
  },
  {
   "cell_type": "code",
   "execution_count": 52,
   "metadata": {},
   "outputs": [
    {
     "name": "stderr",
     "output_type": "stream",
     "text": [
      "C:\\Users\\pycar\\Documents\\Master\\M2\\Semestre 1\\Machine Learning\\competition.py:33: FutureWarning: Columnar iteration over characters will be deprecated in future releases.\n",
      "  Selec[\"But_marque\"], Selec[\"But_pris\"] = Selec[\"score\"].str.split(\"-\", 1).str\n",
      "C:\\Users\\pycar\\Documents\\Master\\M2\\Semestre 1\\Machine Learning\\competition.py:33: SettingWithCopyWarning: \n",
      "A value is trying to be set on a copy of a slice from a DataFrame.\n",
      "Try using .loc[row_indexer,col_indexer] = value instead\n",
      "\n",
      "See the caveats in the documentation: https://pandas.pydata.org/pandas-docs/stable/user_guide/indexing.html#returning-a-view-versus-a-copy\n",
      "  Selec[\"But_marque\"], Selec[\"But_pris\"] = Selec[\"score\"].str.split(\"-\", 1).str\n",
      "C:\\Users\\pycar\\Documents\\Master\\M2\\Semestre 1\\Machine Learning\\competition.py:35: FutureWarning: Columnar iteration over characters will be deprecated in future releases.\n",
      "  Selec_bis[\"But_pris\"], Selec_bis[\"But_marque\"] = Selec_bis[\"score\"].str.split(\"-\", 1).str\n",
      "C:\\Users\\pycar\\Documents\\Master\\M2\\Semestre 1\\Machine Learning\\competition.py:35: SettingWithCopyWarning: \n",
      "A value is trying to be set on a copy of a slice from a DataFrame.\n",
      "Try using .loc[row_indexer,col_indexer] = value instead\n",
      "\n",
      "See the caveats in the documentation: https://pandas.pydata.org/pandas-docs/stable/user_guide/indexing.html#returning-a-view-versus-a-copy\n",
      "  Selec_bis[\"But_pris\"], Selec_bis[\"But_marque\"] = Selec_bis[\"score\"].str.split(\"-\", 1).str\n"
     ]
    },
    {
     "data": {
      "text/html": [
       "<div>\n",
       "<style scoped>\n",
       "    .dataframe tbody tr th:only-of-type {\n",
       "        vertical-align: middle;\n",
       "    }\n",
       "\n",
       "    .dataframe tbody tr th {\n",
       "        vertical-align: top;\n",
       "    }\n",
       "\n",
       "    .dataframe thead th {\n",
       "        text-align: right;\n",
       "    }\n",
       "</style>\n",
       "<table border=\"1\" class=\"dataframe\">\n",
       "  <thead>\n",
       "    <tr style=\"text-align: right;\">\n",
       "      <th></th>\n",
       "      <th>equipe_1</th>\n",
       "      <th>equipe_2</th>\n",
       "      <th>Annee</th>\n",
       "      <th>Situation</th>\n",
       "      <th>affluence_attendue</th>\n",
       "    </tr>\n",
       "  </thead>\n",
       "  <tbody>\n",
       "    <tr>\n",
       "      <th>0</th>\n",
       "      <td>Danemark</td>\n",
       "      <td>Portugal</td>\n",
       "      <td>2022</td>\n",
       "      <td>1/4F</td>\n",
       "      <td>54336.25</td>\n",
       "    </tr>\n",
       "    <tr>\n",
       "      <th>1</th>\n",
       "      <td>Espagne</td>\n",
       "      <td>Mexique</td>\n",
       "      <td>2022</td>\n",
       "      <td>1/4F</td>\n",
       "      <td>46193.41</td>\n",
       "    </tr>\n",
       "    <tr>\n",
       "      <th>2</th>\n",
       "      <td>Allemagne</td>\n",
       "      <td>Russie</td>\n",
       "      <td>2022</td>\n",
       "      <td>1/4F</td>\n",
       "      <td>50817.90</td>\n",
       "    </tr>\n",
       "    <tr>\n",
       "      <th>3</th>\n",
       "      <td>Bresil</td>\n",
       "      <td>Belgique</td>\n",
       "      <td>2022</td>\n",
       "      <td>1/4F</td>\n",
       "      <td>42730.63</td>\n",
       "    </tr>\n",
       "  </tbody>\n",
       "</table>\n",
       "</div>"
      ],
      "text/plain": [
       "    equipe_1  equipe_2 Annee Situation  affluence_attendue\n",
       "0   Danemark  Portugal  2022      1/4F            54336.25\n",
       "1    Espagne   Mexique  2022      1/4F            46193.41\n",
       "2  Allemagne    Russie  2022      1/4F            50817.90\n",
       "3     Bresil  Belgique  2022      1/4F            42730.63"
      ]
     },
     "execution_count": 52,
     "metadata": {},
     "output_type": "execute_result"
    }
   ],
   "source": [
    "ml.prediction_quart(data,Huitieme,Quart,Best_model)"
   ]
  },
  {
   "cell_type": "code",
   "execution_count": 53,
   "metadata": {},
   "outputs": [
    {
     "name": "stderr",
     "output_type": "stream",
     "text": [
      "C:\\Users\\pycar\\Documents\\Master\\M2\\Semestre 1\\Machine Learning\\competition.py:33: FutureWarning: Columnar iteration over characters will be deprecated in future releases.\n",
      "  Selec[\"But_marque\"], Selec[\"But_pris\"] = Selec[\"score\"].str.split(\"-\", 1).str\n",
      "C:\\Users\\pycar\\Documents\\Master\\M2\\Semestre 1\\Machine Learning\\competition.py:33: SettingWithCopyWarning: \n",
      "A value is trying to be set on a copy of a slice from a DataFrame.\n",
      "Try using .loc[row_indexer,col_indexer] = value instead\n",
      "\n",
      "See the caveats in the documentation: https://pandas.pydata.org/pandas-docs/stable/user_guide/indexing.html#returning-a-view-versus-a-copy\n",
      "  Selec[\"But_marque\"], Selec[\"But_pris\"] = Selec[\"score\"].str.split(\"-\", 1).str\n",
      "C:\\Users\\pycar\\Documents\\Master\\M2\\Semestre 1\\Machine Learning\\competition.py:35: FutureWarning: Columnar iteration over characters will be deprecated in future releases.\n",
      "  Selec_bis[\"But_pris\"], Selec_bis[\"But_marque\"] = Selec_bis[\"score\"].str.split(\"-\", 1).str\n",
      "C:\\Users\\pycar\\Documents\\Master\\M2\\Semestre 1\\Machine Learning\\competition.py:35: SettingWithCopyWarning: \n",
      "A value is trying to be set on a copy of a slice from a DataFrame.\n",
      "Try using .loc[row_indexer,col_indexer] = value instead\n",
      "\n",
      "See the caveats in the documentation: https://pandas.pydata.org/pandas-docs/stable/user_guide/indexing.html#returning-a-view-versus-a-copy\n",
      "  Selec_bis[\"But_pris\"], Selec_bis[\"But_marque\"] = Selec_bis[\"score\"].str.split(\"-\", 1).str\n"
     ]
    },
    {
     "data": {
      "text/html": [
       "<div>\n",
       "<style scoped>\n",
       "    .dataframe tbody tr th:only-of-type {\n",
       "        vertical-align: middle;\n",
       "    }\n",
       "\n",
       "    .dataframe tbody tr th {\n",
       "        vertical-align: top;\n",
       "    }\n",
       "\n",
       "    .dataframe thead th {\n",
       "        text-align: right;\n",
       "    }\n",
       "</style>\n",
       "<table border=\"1\" class=\"dataframe\">\n",
       "  <thead>\n",
       "    <tr style=\"text-align: right;\">\n",
       "      <th></th>\n",
       "      <th>equipe_1</th>\n",
       "      <th>equipe_2</th>\n",
       "      <th>Annee</th>\n",
       "      <th>Situation</th>\n",
       "      <th>affluence_attendue</th>\n",
       "    </tr>\n",
       "  </thead>\n",
       "  <tbody>\n",
       "    <tr>\n",
       "      <th>0</th>\n",
       "      <td>Portugal</td>\n",
       "      <td>Espagne</td>\n",
       "      <td>2022</td>\n",
       "      <td>1/2F</td>\n",
       "      <td>56888.22</td>\n",
       "    </tr>\n",
       "    <tr>\n",
       "      <th>1</th>\n",
       "      <td>Russie</td>\n",
       "      <td>Bresil</td>\n",
       "      <td>2022</td>\n",
       "      <td>1/2F</td>\n",
       "      <td>56251.33</td>\n",
       "    </tr>\n",
       "  </tbody>\n",
       "</table>\n",
       "</div>"
      ],
      "text/plain": [
       "   equipe_1 equipe_2 Annee Situation  affluence_attendue\n",
       "0  Portugal  Espagne  2022      1/2F            56888.22\n",
       "1    Russie   Bresil  2022      1/2F            56251.33"
      ]
     },
     "execution_count": 53,
     "metadata": {},
     "output_type": "execute_result"
    }
   ],
   "source": [
    "ml.prediction_demi(data,Huitieme,Demi,Best_model)"
   ]
  },
  {
   "cell_type": "code",
   "execution_count": 54,
   "metadata": {},
   "outputs": [
    {
     "name": "stderr",
     "output_type": "stream",
     "text": [
      "C:\\Users\\pycar\\Documents\\Master\\M2\\Semestre 1\\Machine Learning\\competition.py:33: FutureWarning: Columnar iteration over characters will be deprecated in future releases.\n",
      "  Selec[\"But_marque\"], Selec[\"But_pris\"] = Selec[\"score\"].str.split(\"-\", 1).str\n",
      "C:\\Users\\pycar\\Documents\\Master\\M2\\Semestre 1\\Machine Learning\\competition.py:33: SettingWithCopyWarning: \n",
      "A value is trying to be set on a copy of a slice from a DataFrame.\n",
      "Try using .loc[row_indexer,col_indexer] = value instead\n",
      "\n",
      "See the caveats in the documentation: https://pandas.pydata.org/pandas-docs/stable/user_guide/indexing.html#returning-a-view-versus-a-copy\n",
      "  Selec[\"But_marque\"], Selec[\"But_pris\"] = Selec[\"score\"].str.split(\"-\", 1).str\n",
      "C:\\Users\\pycar\\Documents\\Master\\M2\\Semestre 1\\Machine Learning\\competition.py:35: FutureWarning: Columnar iteration over characters will be deprecated in future releases.\n",
      "  Selec_bis[\"But_pris\"], Selec_bis[\"But_marque\"] = Selec_bis[\"score\"].str.split(\"-\", 1).str\n",
      "C:\\Users\\pycar\\Documents\\Master\\M2\\Semestre 1\\Machine Learning\\competition.py:35: SettingWithCopyWarning: \n",
      "A value is trying to be set on a copy of a slice from a DataFrame.\n",
      "Try using .loc[row_indexer,col_indexer] = value instead\n",
      "\n",
      "See the caveats in the documentation: https://pandas.pydata.org/pandas-docs/stable/user_guide/indexing.html#returning-a-view-versus-a-copy\n",
      "  Selec_bis[\"But_pris\"], Selec_bis[\"But_marque\"] = Selec_bis[\"score\"].str.split(\"-\", 1).str\n"
     ]
    },
    {
     "data": {
      "text/html": [
       "<div>\n",
       "<style scoped>\n",
       "    .dataframe tbody tr th:only-of-type {\n",
       "        vertical-align: middle;\n",
       "    }\n",
       "\n",
       "    .dataframe tbody tr th {\n",
       "        vertical-align: top;\n",
       "    }\n",
       "\n",
       "    .dataframe thead th {\n",
       "        text-align: right;\n",
       "    }\n",
       "</style>\n",
       "<table border=\"1\" class=\"dataframe\">\n",
       "  <thead>\n",
       "    <tr style=\"text-align: right;\">\n",
       "      <th></th>\n",
       "      <th>equipe_1</th>\n",
       "      <th>equipe_2</th>\n",
       "      <th>Annee</th>\n",
       "      <th>Situation</th>\n",
       "      <th>affluence_attendue</th>\n",
       "    </tr>\n",
       "  </thead>\n",
       "  <tbody>\n",
       "    <tr>\n",
       "      <th>0</th>\n",
       "      <td>Portugal</td>\n",
       "      <td>Bresil</td>\n",
       "      <td>2022</td>\n",
       "      <td>Finale</td>\n",
       "      <td>74720.55</td>\n",
       "    </tr>\n",
       "  </tbody>\n",
       "</table>\n",
       "</div>"
      ],
      "text/plain": [
       "   equipe_1 equipe_2 Annee Situation  affluence_attendue\n",
       "0  Portugal   Bresil  2022    Finale            74720.55"
      ]
     },
     "execution_count": 54,
     "metadata": {},
     "output_type": "execute_result"
    }
   ],
   "source": [
    "ml.prediction_finale(data,Huitieme,Finalistes,Best_model)"
   ]
  }
 ],
 "metadata": {
  "kernelspec": {
   "display_name": "Python 3 (ipykernel)",
   "language": "python",
   "name": "python3"
  },
  "language_info": {
   "codemirror_mode": {
    "name": "ipython",
    "version": 3
   },
   "file_extension": ".py",
   "mimetype": "text/x-python",
   "name": "python",
   "nbconvert_exporter": "python",
   "pygments_lexer": "ipython3",
   "version": "3.9.7"
  }
 },
 "nbformat": 4,
 "nbformat_minor": 4
}
